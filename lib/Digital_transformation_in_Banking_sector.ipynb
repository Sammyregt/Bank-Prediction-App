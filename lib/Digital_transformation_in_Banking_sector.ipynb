{
 "cells": [
  {
   "cell_type": "markdown",
   "metadata": {
    "id": "74Yfe5HhJwVc"
   },
   "source": [
    "# Digital Transformation in Banking Sector"
   ]
  },
  {
   "cell_type": "markdown",
   "metadata": {
    "id": "23nMemQkJwVg"
   },
   "source": [
    "## PROJECT OBJECTIVE: \n",
    "### Build a ML model to perform focused digital marketing by predicting the potential customers who will convert from liability customers to asset customers.\n",
    "## CONTEXT: \n",
    "### Bank has a growing customer base where majority of them are liability customers (depositors) vs borrowers (asset customers). The bank is interested in expanding the borrowers base rapidly to bring in more business via loan interests. A campaign that the bank ran in last quarter showed an average single digit conversion rate. In the last town hall, the marketing head mentioned that digital transformation being the core strength of the business strategy, how  to devise effective campaigns with better target marketing to increase the conversion ratio to double digit with same budget as per last campaign. You as a data scientist asked to develop machine learning model to identify potential borrowers to support focused marketing.\n"
   ]
  },
  {
   "cell_type": "markdown",
   "metadata": {
    "id": "PL0JzVqGJwVh"
   },
   "source": [
    "### DATA DESCRIPTION: The data consists of the following attributes:\n",
    "1. ID: Customer ID\n",
    "2. Age Customer’s approximate age.\n",
    "3. CustomerSince: Customer of the bank since. [unit is masked]\n",
    "4. HighestSpend: Customer’s highest spend so far in one transaction. [unit is masked]\n",
    "5. ZipCode: Customer’s zip code.\n",
    "6. HiddenScore: A score associated to the customer which is masked by the bank as an IP.\n",
    "7. MonthlyAverageSpend: Customer’s monthly average spend so far. [unit is masked]\n",
    "8. Level: A level associated to the customer which is masked by the bank as an IP.\n",
    "9. Mortgage: Customer’s mortgage. [unit is masked]\n",
    "10. Security: Customer’s security asset with the bank. [unit is masked]\n",
    "11. FixedDepositAccount: Customer’s fixed deposit account with the bank. [unit is masked]\n",
    "12. InternetBanking: if the customer uses internet banking.\n",
    "13. CreditCard: if the customer uses bank’s credit card.\n",
    "14. LoanOnCard: if the customer has a loan on credit card"
   ]
  },
  {
   "cell_type": "code",
   "execution_count": 2,
   "metadata": {
    "id": "lcfDcE3hJwVi"
   },
   "outputs": [],
   "source": [
    "#Import Libraries"
   ]
  },
  {
   "cell_type": "code",
   "execution_count": 3,
   "metadata": {
    "id": "lHVEbWyO8VKG"
   },
   "outputs": [],
   "source": [
    "# To enable plotting graphs in Jupyter notebook\n",
    "%matplotlib inline \n",
    "import numpy as np\n",
    "import pandas as pd\n",
    "import seaborn as sns\n",
    "import matplotlib.pyplot as plt"
   ]
  },
  {
   "cell_type": "code",
   "execution_count": 4,
   "metadata": {
    "id": "eqL3DKFOJwVj"
   },
   "outputs": [],
   "source": [
    "# Load customer data present in CSV file\n",
    "data1 = pd.read_csv(\"../data/Data1.csv\")\n",
    "data2 = pd.read_csv(\"../data/Data2.csv\")"
   ]
  },
  {
   "cell_type": "code",
   "execution_count": 5,
   "metadata": {
    "id": "mac-N-hhJwVj",
    "outputId": "1c4c8ec8-1785-453c-f31e-50b3a2a8aeb2"
   },
   "outputs": [
    {
     "name": "stdout",
     "output_type": "stream",
     "text": [
      "(5000, 8)\n",
      "(5000, 7)\n"
     ]
    }
   ],
   "source": [
    "# Shape and size of data\n",
    "print(data1.shape)\n",
    "print(data2.shape)"
   ]
  },
  {
   "cell_type": "code",
   "execution_count": 6,
   "metadata": {},
   "outputs": [
    {
     "data": {
      "text/html": [
       "<div>\n",
       "<style scoped>\n",
       "    .dataframe tbody tr th:only-of-type {\n",
       "        vertical-align: middle;\n",
       "    }\n",
       "\n",
       "    .dataframe tbody tr th {\n",
       "        vertical-align: top;\n",
       "    }\n",
       "\n",
       "    .dataframe thead th {\n",
       "        text-align: right;\n",
       "    }\n",
       "</style>\n",
       "<table border=\"1\" class=\"dataframe\">\n",
       "  <thead>\n",
       "    <tr style=\"text-align: right;\">\n",
       "      <th></th>\n",
       "      <th>ID</th>\n",
       "      <th>Age</th>\n",
       "      <th>CustomerSince</th>\n",
       "      <th>HighestSpend</th>\n",
       "      <th>ZipCode</th>\n",
       "      <th>HiddenScore</th>\n",
       "      <th>MonthlyAverageSpend</th>\n",
       "      <th>Level</th>\n",
       "    </tr>\n",
       "  </thead>\n",
       "  <tbody>\n",
       "    <tr>\n",
       "      <th>0</th>\n",
       "      <td>1</td>\n",
       "      <td>25</td>\n",
       "      <td>1</td>\n",
       "      <td>49</td>\n",
       "      <td>91107</td>\n",
       "      <td>4</td>\n",
       "      <td>1.6</td>\n",
       "      <td>1</td>\n",
       "    </tr>\n",
       "    <tr>\n",
       "      <th>1</th>\n",
       "      <td>2</td>\n",
       "      <td>45</td>\n",
       "      <td>19</td>\n",
       "      <td>34</td>\n",
       "      <td>90089</td>\n",
       "      <td>3</td>\n",
       "      <td>1.5</td>\n",
       "      <td>1</td>\n",
       "    </tr>\n",
       "    <tr>\n",
       "      <th>2</th>\n",
       "      <td>3</td>\n",
       "      <td>39</td>\n",
       "      <td>15</td>\n",
       "      <td>11</td>\n",
       "      <td>94720</td>\n",
       "      <td>1</td>\n",
       "      <td>1.0</td>\n",
       "      <td>1</td>\n",
       "    </tr>\n",
       "    <tr>\n",
       "      <th>3</th>\n",
       "      <td>4</td>\n",
       "      <td>35</td>\n",
       "      <td>9</td>\n",
       "      <td>100</td>\n",
       "      <td>94112</td>\n",
       "      <td>1</td>\n",
       "      <td>2.7</td>\n",
       "      <td>2</td>\n",
       "    </tr>\n",
       "    <tr>\n",
       "      <th>4</th>\n",
       "      <td>5</td>\n",
       "      <td>35</td>\n",
       "      <td>8</td>\n",
       "      <td>45</td>\n",
       "      <td>91330</td>\n",
       "      <td>4</td>\n",
       "      <td>1.0</td>\n",
       "      <td>2</td>\n",
       "    </tr>\n",
       "  </tbody>\n",
       "</table>\n",
       "</div>"
      ],
      "text/plain": [
       "   ID  Age  CustomerSince  HighestSpend  ZipCode  HiddenScore  \\\n",
       "0   1   25              1            49    91107            4   \n",
       "1   2   45             19            34    90089            3   \n",
       "2   3   39             15            11    94720            1   \n",
       "3   4   35              9           100    94112            1   \n",
       "4   5   35              8            45    91330            4   \n",
       "\n",
       "   MonthlyAverageSpend  Level  \n",
       "0                  1.6      1  \n",
       "1                  1.5      1  \n",
       "2                  1.0      1  \n",
       "3                  2.7      2  \n",
       "4                  1.0      2  "
      ]
     },
     "execution_count": 6,
     "metadata": {},
     "output_type": "execute_result"
    }
   ],
   "source": [
    "data1.head()"
   ]
  },
  {
   "cell_type": "code",
   "execution_count": 7,
   "metadata": {},
   "outputs": [
    {
     "data": {
      "text/html": [
       "<div>\n",
       "<style scoped>\n",
       "    .dataframe tbody tr th:only-of-type {\n",
       "        vertical-align: middle;\n",
       "    }\n",
       "\n",
       "    .dataframe tbody tr th {\n",
       "        vertical-align: top;\n",
       "    }\n",
       "\n",
       "    .dataframe thead th {\n",
       "        text-align: right;\n",
       "    }\n",
       "</style>\n",
       "<table border=\"1\" class=\"dataframe\">\n",
       "  <thead>\n",
       "    <tr style=\"text-align: right;\">\n",
       "      <th></th>\n",
       "      <th>ID</th>\n",
       "      <th>Mortgage</th>\n",
       "      <th>Security</th>\n",
       "      <th>FixedDepositAccount</th>\n",
       "      <th>InternetBanking</th>\n",
       "      <th>CreditCard</th>\n",
       "      <th>LoanOnCard</th>\n",
       "    </tr>\n",
       "  </thead>\n",
       "  <tbody>\n",
       "    <tr>\n",
       "      <th>0</th>\n",
       "      <td>1</td>\n",
       "      <td>0</td>\n",
       "      <td>1</td>\n",
       "      <td>0</td>\n",
       "      <td>0</td>\n",
       "      <td>0</td>\n",
       "      <td>NaN</td>\n",
       "    </tr>\n",
       "    <tr>\n",
       "      <th>1</th>\n",
       "      <td>2</td>\n",
       "      <td>0</td>\n",
       "      <td>1</td>\n",
       "      <td>0</td>\n",
       "      <td>0</td>\n",
       "      <td>0</td>\n",
       "      <td>NaN</td>\n",
       "    </tr>\n",
       "    <tr>\n",
       "      <th>2</th>\n",
       "      <td>3</td>\n",
       "      <td>0</td>\n",
       "      <td>0</td>\n",
       "      <td>0</td>\n",
       "      <td>0</td>\n",
       "      <td>0</td>\n",
       "      <td>NaN</td>\n",
       "    </tr>\n",
       "    <tr>\n",
       "      <th>3</th>\n",
       "      <td>4</td>\n",
       "      <td>0</td>\n",
       "      <td>0</td>\n",
       "      <td>0</td>\n",
       "      <td>0</td>\n",
       "      <td>0</td>\n",
       "      <td>NaN</td>\n",
       "    </tr>\n",
       "    <tr>\n",
       "      <th>4</th>\n",
       "      <td>5</td>\n",
       "      <td>0</td>\n",
       "      <td>0</td>\n",
       "      <td>0</td>\n",
       "      <td>0</td>\n",
       "      <td>1</td>\n",
       "      <td>NaN</td>\n",
       "    </tr>\n",
       "  </tbody>\n",
       "</table>\n",
       "</div>"
      ],
      "text/plain": [
       "   ID  Mortgage  Security  FixedDepositAccount  InternetBanking  CreditCard  \\\n",
       "0   1         0         1                    0                0           0   \n",
       "1   2         0         1                    0                0           0   \n",
       "2   3         0         0                    0                0           0   \n",
       "3   4         0         0                    0                0           0   \n",
       "4   5         0         0                    0                0           1   \n",
       "\n",
       "   LoanOnCard  \n",
       "0         NaN  \n",
       "1         NaN  \n",
       "2         NaN  \n",
       "3         NaN  \n",
       "4         NaN  "
      ]
     },
     "execution_count": 7,
     "metadata": {},
     "output_type": "execute_result"
    }
   ],
   "source": [
    "data2.head()"
   ]
  },
  {
   "cell_type": "code",
   "execution_count": null,
   "metadata": {},
   "outputs": [],
   "source": []
  },
  {
   "cell_type": "code",
   "execution_count": 8,
   "metadata": {
    "id": "X4JyjdChJwVl"
   },
   "outputs": [],
   "source": [
    "# Merging two data frames. Use Pandas merge function to merge two data frames based on cutomer ID\n",
    "cust_data=data1.merge(data2, how='inner', on='ID')"
   ]
  },
  {
   "cell_type": "code",
   "execution_count": 9,
   "metadata": {
    "id": "nhnULTa8JwVl",
    "outputId": "a926a752-c785-4d42-cdba-6b7a6812b27f"
   },
   "outputs": [
    {
     "name": "stdout",
     "output_type": "stream",
     "text": [
      "(5000, 14)\n"
     ]
    }
   ],
   "source": [
    "# Explore final shape of data\n",
    "print(cust_data.shape)"
   ]
  },
  {
   "cell_type": "code",
   "execution_count": 10,
   "metadata": {
    "id": "kp7hM01yJwVm",
    "outputId": "7fa5d96f-a710-41c9-f9fe-498cf484da15"
   },
   "outputs": [
    {
     "data": {
      "text/plain": [
       "ID                       int64\n",
       "Age                      int64\n",
       "CustomerSince            int64\n",
       "HighestSpend             int64\n",
       "ZipCode                  int64\n",
       "HiddenScore              int64\n",
       "MonthlyAverageSpend    float64\n",
       "Level                    int64\n",
       "Mortgage                 int64\n",
       "Security                 int64\n",
       "FixedDepositAccount      int64\n",
       "InternetBanking          int64\n",
       "CreditCard               int64\n",
       "LoanOnCard             float64\n",
       "dtype: object"
      ]
     },
     "execution_count": 10,
     "metadata": {},
     "output_type": "execute_result"
    }
   ],
   "source": [
    "# Explore data types\n",
    "cust_data.dtypes"
   ]
  },
  {
   "cell_type": "markdown",
   "metadata": {
    "id": "PYwJI3djJwVn"
   },
   "source": [
    "### Comment: As all data attributes are quantitative data, we don't need data transformation here"
   ]
  },
  {
   "cell_type": "code",
   "execution_count": 11,
   "metadata": {
    "id": "VWjc4mc7JwVn",
    "outputId": "11ddc213-f0c6-4c46-d3dd-775638dc43f7"
   },
   "outputs": [
    {
     "data": {
      "text/html": [
       "<div>\n",
       "<style scoped>\n",
       "    .dataframe tbody tr th:only-of-type {\n",
       "        vertical-align: middle;\n",
       "    }\n",
       "\n",
       "    .dataframe tbody tr th {\n",
       "        vertical-align: top;\n",
       "    }\n",
       "\n",
       "    .dataframe thead th {\n",
       "        text-align: right;\n",
       "    }\n",
       "</style>\n",
       "<table border=\"1\" class=\"dataframe\">\n",
       "  <thead>\n",
       "    <tr style=\"text-align: right;\">\n",
       "      <th></th>\n",
       "      <th>count</th>\n",
       "      <th>mean</th>\n",
       "      <th>std</th>\n",
       "      <th>min</th>\n",
       "      <th>25%</th>\n",
       "      <th>50%</th>\n",
       "      <th>75%</th>\n",
       "      <th>max</th>\n",
       "    </tr>\n",
       "  </thead>\n",
       "  <tbody>\n",
       "    <tr>\n",
       "      <th>ID</th>\n",
       "      <td>5000.0</td>\n",
       "      <td>2500.500000</td>\n",
       "      <td>1443.520003</td>\n",
       "      <td>1.0</td>\n",
       "      <td>1250.75</td>\n",
       "      <td>2500.5</td>\n",
       "      <td>3750.25</td>\n",
       "      <td>5000.0</td>\n",
       "    </tr>\n",
       "    <tr>\n",
       "      <th>Age</th>\n",
       "      <td>5000.0</td>\n",
       "      <td>45.338400</td>\n",
       "      <td>11.463166</td>\n",
       "      <td>23.0</td>\n",
       "      <td>35.00</td>\n",
       "      <td>45.0</td>\n",
       "      <td>55.00</td>\n",
       "      <td>67.0</td>\n",
       "    </tr>\n",
       "    <tr>\n",
       "      <th>CustomerSince</th>\n",
       "      <td>5000.0</td>\n",
       "      <td>20.104600</td>\n",
       "      <td>11.467954</td>\n",
       "      <td>-3.0</td>\n",
       "      <td>10.00</td>\n",
       "      <td>20.0</td>\n",
       "      <td>30.00</td>\n",
       "      <td>43.0</td>\n",
       "    </tr>\n",
       "    <tr>\n",
       "      <th>HighestSpend</th>\n",
       "      <td>5000.0</td>\n",
       "      <td>73.774200</td>\n",
       "      <td>46.033729</td>\n",
       "      <td>8.0</td>\n",
       "      <td>39.00</td>\n",
       "      <td>64.0</td>\n",
       "      <td>98.00</td>\n",
       "      <td>224.0</td>\n",
       "    </tr>\n",
       "    <tr>\n",
       "      <th>ZipCode</th>\n",
       "      <td>5000.0</td>\n",
       "      <td>93152.503000</td>\n",
       "      <td>2121.852197</td>\n",
       "      <td>9307.0</td>\n",
       "      <td>91911.00</td>\n",
       "      <td>93437.0</td>\n",
       "      <td>94608.00</td>\n",
       "      <td>96651.0</td>\n",
       "    </tr>\n",
       "    <tr>\n",
       "      <th>HiddenScore</th>\n",
       "      <td>5000.0</td>\n",
       "      <td>2.396400</td>\n",
       "      <td>1.147663</td>\n",
       "      <td>1.0</td>\n",
       "      <td>1.00</td>\n",
       "      <td>2.0</td>\n",
       "      <td>3.00</td>\n",
       "      <td>4.0</td>\n",
       "    </tr>\n",
       "    <tr>\n",
       "      <th>MonthlyAverageSpend</th>\n",
       "      <td>5000.0</td>\n",
       "      <td>1.937938</td>\n",
       "      <td>1.747659</td>\n",
       "      <td>0.0</td>\n",
       "      <td>0.70</td>\n",
       "      <td>1.5</td>\n",
       "      <td>2.50</td>\n",
       "      <td>10.0</td>\n",
       "    </tr>\n",
       "    <tr>\n",
       "      <th>Level</th>\n",
       "      <td>5000.0</td>\n",
       "      <td>1.881000</td>\n",
       "      <td>0.839869</td>\n",
       "      <td>1.0</td>\n",
       "      <td>1.00</td>\n",
       "      <td>2.0</td>\n",
       "      <td>3.00</td>\n",
       "      <td>3.0</td>\n",
       "    </tr>\n",
       "    <tr>\n",
       "      <th>Mortgage</th>\n",
       "      <td>5000.0</td>\n",
       "      <td>56.498800</td>\n",
       "      <td>101.713802</td>\n",
       "      <td>0.0</td>\n",
       "      <td>0.00</td>\n",
       "      <td>0.0</td>\n",
       "      <td>101.00</td>\n",
       "      <td>635.0</td>\n",
       "    </tr>\n",
       "    <tr>\n",
       "      <th>Security</th>\n",
       "      <td>5000.0</td>\n",
       "      <td>0.104400</td>\n",
       "      <td>0.305809</td>\n",
       "      <td>0.0</td>\n",
       "      <td>0.00</td>\n",
       "      <td>0.0</td>\n",
       "      <td>0.00</td>\n",
       "      <td>1.0</td>\n",
       "    </tr>\n",
       "    <tr>\n",
       "      <th>FixedDepositAccount</th>\n",
       "      <td>5000.0</td>\n",
       "      <td>0.060400</td>\n",
       "      <td>0.238250</td>\n",
       "      <td>0.0</td>\n",
       "      <td>0.00</td>\n",
       "      <td>0.0</td>\n",
       "      <td>0.00</td>\n",
       "      <td>1.0</td>\n",
       "    </tr>\n",
       "    <tr>\n",
       "      <th>InternetBanking</th>\n",
       "      <td>5000.0</td>\n",
       "      <td>0.596800</td>\n",
       "      <td>0.490589</td>\n",
       "      <td>0.0</td>\n",
       "      <td>0.00</td>\n",
       "      <td>1.0</td>\n",
       "      <td>1.00</td>\n",
       "      <td>1.0</td>\n",
       "    </tr>\n",
       "    <tr>\n",
       "      <th>CreditCard</th>\n",
       "      <td>5000.0</td>\n",
       "      <td>0.294000</td>\n",
       "      <td>0.455637</td>\n",
       "      <td>0.0</td>\n",
       "      <td>0.00</td>\n",
       "      <td>0.0</td>\n",
       "      <td>1.00</td>\n",
       "      <td>1.0</td>\n",
       "    </tr>\n",
       "    <tr>\n",
       "      <th>LoanOnCard</th>\n",
       "      <td>4980.0</td>\n",
       "      <td>0.096386</td>\n",
       "      <td>0.295149</td>\n",
       "      <td>0.0</td>\n",
       "      <td>0.00</td>\n",
       "      <td>0.0</td>\n",
       "      <td>0.00</td>\n",
       "      <td>1.0</td>\n",
       "    </tr>\n",
       "  </tbody>\n",
       "</table>\n",
       "</div>"
      ],
      "text/plain": [
       "                      count          mean          std     min       25%  \\\n",
       "ID                   5000.0   2500.500000  1443.520003     1.0   1250.75   \n",
       "Age                  5000.0     45.338400    11.463166    23.0     35.00   \n",
       "CustomerSince        5000.0     20.104600    11.467954    -3.0     10.00   \n",
       "HighestSpend         5000.0     73.774200    46.033729     8.0     39.00   \n",
       "ZipCode              5000.0  93152.503000  2121.852197  9307.0  91911.00   \n",
       "HiddenScore          5000.0      2.396400     1.147663     1.0      1.00   \n",
       "MonthlyAverageSpend  5000.0      1.937938     1.747659     0.0      0.70   \n",
       "Level                5000.0      1.881000     0.839869     1.0      1.00   \n",
       "Mortgage             5000.0     56.498800   101.713802     0.0      0.00   \n",
       "Security             5000.0      0.104400     0.305809     0.0      0.00   \n",
       "FixedDepositAccount  5000.0      0.060400     0.238250     0.0      0.00   \n",
       "InternetBanking      5000.0      0.596800     0.490589     0.0      0.00   \n",
       "CreditCard           5000.0      0.294000     0.455637     0.0      0.00   \n",
       "LoanOnCard           4980.0      0.096386     0.295149     0.0      0.00   \n",
       "\n",
       "                         50%       75%      max  \n",
       "ID                    2500.5   3750.25   5000.0  \n",
       "Age                     45.0     55.00     67.0  \n",
       "CustomerSince           20.0     30.00     43.0  \n",
       "HighestSpend            64.0     98.00    224.0  \n",
       "ZipCode              93437.0  94608.00  96651.0  \n",
       "HiddenScore              2.0      3.00      4.0  \n",
       "MonthlyAverageSpend      1.5      2.50     10.0  \n",
       "Level                    2.0      3.00      3.0  \n",
       "Mortgage                 0.0    101.00    635.0  \n",
       "Security                 0.0      0.00      1.0  \n",
       "FixedDepositAccount      0.0      0.00      1.0  \n",
       "InternetBanking          1.0      1.00      1.0  \n",
       "CreditCard               0.0      1.00      1.0  \n",
       "LoanOnCard               0.0      0.00      1.0  "
      ]
     },
     "execution_count": 11,
     "metadata": {},
     "output_type": "execute_result"
    }
   ],
   "source": [
    "# Data description\n",
    "cust_data.describe().transpose()"
   ]
  },
  {
   "cell_type": "code",
   "execution_count": 12,
   "metadata": {
    "scrolled": true
   },
   "outputs": [
    {
     "data": {
      "text/plain": [
       "CreditCard\n",
       "0    3530\n",
       "1    1470\n",
       "Name: count, dtype: int64"
      ]
     },
     "execution_count": 12,
     "metadata": {},
     "output_type": "execute_result"
    }
   ],
   "source": [
    "cust_data[\"CreditCard\"].value_counts()"
   ]
  },
  {
   "cell_type": "code",
   "execution_count": 13,
   "metadata": {
    "id": "l-eqEcpaJwVo"
   },
   "outputs": [],
   "source": [
    "# Dropping ID as it doesn't have any impact on learning\n",
    "cust_data = cust_data.drop(columns='ID')"
   ]
  },
  {
   "cell_type": "code",
   "execution_count": 14,
   "metadata": {
    "id": "alE6I5OXJwVp",
    "outputId": "6a50e3d4-0f79-4867-f600-05297d1d1846"
   },
   "outputs": [
    {
     "data": {
      "text/plain": [
       "(5000, 13)"
      ]
     },
     "execution_count": 14,
     "metadata": {},
     "output_type": "execute_result"
    }
   ],
   "source": [
    "cust_data.shape"
   ]
  },
  {
   "cell_type": "code",
   "execution_count": 15,
   "metadata": {
    "id": "8w2p7kCPJwVp",
    "outputId": "f2ba7844-551d-45d2-a955-9125cb4ba8cd"
   },
   "outputs": [
    {
     "data": {
      "text/plain": [
       "Age                     0\n",
       "CustomerSince           0\n",
       "HighestSpend            0\n",
       "ZipCode                 0\n",
       "HiddenScore             0\n",
       "MonthlyAverageSpend     0\n",
       "Level                   0\n",
       "Mortgage                0\n",
       "Security                0\n",
       "FixedDepositAccount     0\n",
       "InternetBanking         0\n",
       "CreditCard              0\n",
       "LoanOnCard             20\n",
       "dtype: int64"
      ]
     },
     "execution_count": 15,
     "metadata": {},
     "output_type": "execute_result"
    }
   ],
   "source": [
    "# Check for null value\n",
    "cust_data.isnull().sum()"
   ]
  },
  {
   "cell_type": "markdown",
   "metadata": {
    "id": "Y3iXhfquJwVq"
   },
   "source": [
    "### Comment: LoanOnCard attribute has 20 null data, which is 0.4% only. Secondly, it is the target class hence we can't repplace null value using mean or mode. We can remove these data from our dataset."
   ]
  },
  {
   "cell_type": "code",
   "execution_count": 16,
   "metadata": {
    "id": "AA2b4ioJJwVq"
   },
   "outputs": [],
   "source": [
    "# Using Panda's dropna function to drop rows having null values.\n",
    "cust_data = cust_data.dropna()"
   ]
  },
  {
   "cell_type": "code",
   "execution_count": 17,
   "metadata": {
    "id": "WSd31bypJwVq",
    "outputId": "9b2b0425-e209-4bca-f9b0-f4359a555972"
   },
   "outputs": [
    {
     "data": {
      "text/plain": [
       "(4980, 13)"
      ]
     },
     "execution_count": 17,
     "metadata": {},
     "output_type": "execute_result"
    }
   ],
   "source": [
    "#Explore Size after null value removal\n",
    "cust_data.shape"
   ]
  },
  {
   "cell_type": "markdown",
   "metadata": {
    "id": "Xo-co7UXJwVr"
   },
   "source": [
    "## Exploratory Data Analysis"
   ]
  },
  {
   "cell_type": "code",
   "execution_count": 18,
   "metadata": {
    "id": "fWfpkIF5JwVr",
    "outputId": "b2a4bb8a-87bb-4ec9-aa80-1835b9893b76"
   },
   "outputs": [],
   "source": [
    "# Let explore how data is distributed as per target class.\n",
    "sns.countplot(x = 'LoanOnCard',  data = cust_data);"
   ]
  },
  {
   "cell_type": "markdown",
   "metadata": {
    "id": "oHsBfAP8JwVr"
   },
   "source": [
    "#### This shows clearly data is highly imbalanced."
   ]
  },
  {
   "cell_type": "markdown",
   "metadata": {
    "id": "96UoYXQnJwVr"
   },
   "source": [
    "### Calculate target class data percentage"
   ]
  },
  {
   "cell_type": "code",
   "execution_count": 19,
   "metadata": {
    "id": "niGWIQUjJwVs",
    "outputId": "033a7500-0a59-4646-e3c7-0026d1f0f124"
   },
   "outputs": [
    {
     "name": "stdout",
     "output_type": "stream",
     "text": [
      "Number of true cases: 480 (9.64%)\n",
      "Number of false cases: 4500 (90.36%)\n"
     ]
    }
   ],
   "source": [
    "n_true = len(cust_data.loc[cust_data['LoanOnCard'] == 1.0])\n",
    "n_false = len(cust_data.loc[cust_data['LoanOnCard'] == 0.0])\n",
    "print(\"Number of true cases: {0} ({1:2.2f}%)\".format(n_true, (n_true / (n_true + n_false)) * 100 ))\n",
    "print(\"Number of false cases: {0} ({1:2.2f}%)\".format(n_false, (n_false / (n_true + n_false)) * 100))"
   ]
  },
  {
   "cell_type": "markdown",
   "metadata": {
    "id": "TPjsOVXTJwVs"
   },
   "source": [
    "## Comment: Data imbalance is a typical problem in machine learning. Later we shall use it's impact when we develop ML models."
   ]
  },
  {
   "cell_type": "code",
   "execution_count": 20,
   "metadata": {
    "id": "8-2JyMwBJwVs",
    "outputId": "d128ef40-9590-4f75-9292-653cd4f97d35"
   },
   "outputs": [
    {
     "data": {
      "text/plain": [
       "[None]"
      ]
     },
     "execution_count": 20,
     "metadata": {},
     "output_type": "execute_result"
    }
   ],
   "source": [
    "# Scatter plot to see how data points are distributed for \"MonthlyAverageSpend\" and \"HighestSpend\" as per target class\n",
    "g = sns.scatterplot(x=\"HighestSpend\", y=\"MonthlyAverageSpend\", hue=\"LoanOnCard\",\n",
    "             data=cust_data,legend='full')\n",
    "g.set(xscale=\"log\")\n"
   ]
  },
  {
   "cell_type": "code",
   "execution_count": 21,
   "metadata": {
    "id": "YJBGJ8tTJwVs",
    "outputId": "46424ac9-e7d2-418b-c54b-85288dc7e39d"
   },
   "outputs": [
    {
     "data": {
      "image/png": "[encoded data removed]",
      "text/plain": [
       "<Figure size 640x480 with 1 Axes>"
      ]
     },
     "metadata": {},
     "output_type": "display_data"
    },
    {
     "data": {
      "image/png": "[encoded data removed]",
      "text/plain": [
       "<Figure size 640x480 with 2 Axes>"
      ]
     },
     "metadata": {},
     "output_type": "display_data"
    }
   ],
   "source": [
    "fig, ax = plt.subplots(1, 2)\n",
    "sns.histplot(cust_data.loc[cust_data.LoanOnCard == 0.0, 'Mortgage'], ax = ax[0])\n",
    "sns.histplot(cust_data.loc[cust_data.LoanOnCard == 1.0, 'Mortgage'], ax = ax[1])\n",
    "plt.show()"
   ]
  },
  {
   "cell_type": "code",
   "execution_count": 22,
   "metadata": {
    "id": "nQaI3QOyJwVt",
    "outputId": "fe739965-0ed3-44b5-b7ce-517409673cc0"
   },
   "outputs": [
    {
     "data": {
      "image/png": "[encoded data removed]",
      "text/plain": [
       "<Figure size 640x480 with 2 Axes>"
      ]
     },
     "metadata": {},
     "output_type": "display_data"
    }
   ],
   "source": [
    "fig, ax = plt.subplots(1, 2)\n",
    "sns.histplot(cust_data.loc[cust_data.LoanOnCard == 0.0, 'FixedDepositAccount'], ax = ax[0])\n",
    "sns.histplot(cust_data.loc[cust_data.LoanOnCard == 1.0, 'FixedDepositAccount'], ax = ax[1])\n",
    "plt.show()"
   ]
  },
  {
   "cell_type": "code",
   "execution_count": 23,
   "metadata": {
    "id": "v9IrMwpAJwVt",
    "outputId": "1e3bbcfa-a632-4873-f0c7-d23deb987ab2"
   },
   "outputs": [],
   "source": [
    "columns = list(cust_data)[0:-1] # Excluding Outcome column which has only \n",
    "cust_data[columns].hist(stacked=False, bins=100, figsize=(12,30), layout=(14,2)); \n",
    "# Histogram of first 8 columns"
   ]
  },
  {
   "cell_type": "code",
   "execution_count": 24,
   "metadata": {
    "id": "MGHO2Q6wJwVu",
    "outputId": "b0f2f738-2616-4c66-9aba-c54ec20dd8f6"
   },
   "outputs": [],
   "source": [
    "#sns.pairplot(cust_data, height=3, hue = 'LoanOnCard')"
   ]
  },
  {
   "cell_type": "markdown",
   "metadata": {
    "id": "tFfwVh2eJwVu"
   },
   "source": [
    "### Zipcode doesn't have any significance with other dependant variables and on learning, hence drop it from dependant variable list.\n",
    "\n",
    "### Age and customer Since have similar information content. Will verify through correlation analysis\n"
   ]
  },
  {
   "cell_type": "code",
   "execution_count": 25,
   "metadata": {
    "id": "vuj1Loh6JwVu"
   },
   "outputs": [],
   "source": [
    "cust_data = cust_data.drop(columns='ZipCode')"
   ]
  },
  {
   "cell_type": "code",
   "execution_count": 26,
   "metadata": {
    "id": "tWk1lbPEJwVu",
    "outputId": "3c2effbb-41d5-4211-b6f7-4ed4b3cd1cbf"
   },
   "outputs": [
    {
     "data": {
      "text/html": [
       "<div>\n",
       "<style scoped>\n",
       "    .dataframe tbody tr th:only-of-type {\n",
       "        vertical-align: middle;\n",
       "    }\n",
       "\n",
       "    .dataframe tbody tr th {\n",
       "        vertical-align: top;\n",
       "    }\n",
       "\n",
       "    .dataframe thead th {\n",
       "        text-align: right;\n",
       "    }\n",
       "</style>\n",
       "<table border=\"1\" class=\"dataframe\">\n",
       "  <thead>\n",
       "    <tr style=\"text-align: right;\">\n",
       "      <th></th>\n",
       "      <th>Age</th>\n",
       "      <th>CustomerSince</th>\n",
       "      <th>HighestSpend</th>\n",
       "      <th>HiddenScore</th>\n",
       "      <th>MonthlyAverageSpend</th>\n",
       "      <th>Level</th>\n",
       "      <th>Mortgage</th>\n",
       "      <th>Security</th>\n",
       "      <th>FixedDepositAccount</th>\n",
       "      <th>InternetBanking</th>\n",
       "      <th>CreditCard</th>\n",
       "      <th>LoanOnCard</th>\n",
       "    </tr>\n",
       "  </thead>\n",
       "  <tbody>\n",
       "    <tr>\n",
       "      <th>Age</th>\n",
       "      <td>1.000000</td>\n",
       "      <td>0.994208</td>\n",
       "      <td>-0.054951</td>\n",
       "      <td>-0.045289</td>\n",
       "      <td>-0.051896</td>\n",
       "      <td>0.042750</td>\n",
       "      <td>-0.013272</td>\n",
       "      <td>0.000323</td>\n",
       "      <td>0.007744</td>\n",
       "      <td>0.011227</td>\n",
       "      <td>0.007344</td>\n",
       "      <td>-0.008147</td>\n",
       "    </tr>\n",
       "    <tr>\n",
       "      <th>CustomerSince</th>\n",
       "      <td>0.994208</td>\n",
       "      <td>1.000000</td>\n",
       "      <td>-0.046092</td>\n",
       "      <td>-0.051456</td>\n",
       "      <td>-0.049918</td>\n",
       "      <td>0.014545</td>\n",
       "      <td>-0.011380</td>\n",
       "      <td>-0.000469</td>\n",
       "      <td>0.010085</td>\n",
       "      <td>0.011355</td>\n",
       "      <td>0.008779</td>\n",
       "      <td>-0.007801</td>\n",
       "    </tr>\n",
       "    <tr>\n",
       "      <th>HighestSpend</th>\n",
       "      <td>-0.054951</td>\n",
       "      <td>-0.046092</td>\n",
       "      <td>1.000000</td>\n",
       "      <td>-0.158357</td>\n",
       "      <td>0.646109</td>\n",
       "      <td>-0.188909</td>\n",
       "      <td>0.207236</td>\n",
       "      <td>-0.002284</td>\n",
       "      <td>0.169535</td>\n",
       "      <td>0.014202</td>\n",
       "      <td>-0.002780</td>\n",
       "      <td>0.502626</td>\n",
       "    </tr>\n",
       "    <tr>\n",
       "      <th>HiddenScore</th>\n",
       "      <td>-0.045289</td>\n",
       "      <td>-0.051456</td>\n",
       "      <td>-0.158357</td>\n",
       "      <td>1.000000</td>\n",
       "      <td>-0.109180</td>\n",
       "      <td>0.065762</td>\n",
       "      <td>-0.021396</td>\n",
       "      <td>0.019061</td>\n",
       "      <td>0.014327</td>\n",
       "      <td>0.010900</td>\n",
       "      <td>0.010784</td>\n",
       "      <td>0.061761</td>\n",
       "    </tr>\n",
       "    <tr>\n",
       "      <th>MonthlyAverageSpend</th>\n",
       "      <td>-0.051896</td>\n",
       "      <td>-0.049918</td>\n",
       "      <td>0.646109</td>\n",
       "      <td>-0.109180</td>\n",
       "      <td>1.000000</td>\n",
       "      <td>-0.137020</td>\n",
       "      <td>0.110275</td>\n",
       "      <td>0.015105</td>\n",
       "      <td>0.136410</td>\n",
       "      <td>-0.003475</td>\n",
       "      <td>-0.006577</td>\n",
       "      <td>0.366912</td>\n",
       "    </tr>\n",
       "    <tr>\n",
       "      <th>Level</th>\n",
       "      <td>0.042750</td>\n",
       "      <td>0.014545</td>\n",
       "      <td>-0.188909</td>\n",
       "      <td>0.065762</td>\n",
       "      <td>-0.137020</td>\n",
       "      <td>1.000000</td>\n",
       "      <td>-0.032863</td>\n",
       "      <td>-0.009443</td>\n",
       "      <td>0.013982</td>\n",
       "      <td>-0.014556</td>\n",
       "      <td>-0.011766</td>\n",
       "      <td>0.137010</td>\n",
       "    </tr>\n",
       "    <tr>\n",
       "      <th>Mortgage</th>\n",
       "      <td>-0.013272</td>\n",
       "      <td>-0.011380</td>\n",
       "      <td>0.207236</td>\n",
       "      <td>-0.021396</td>\n",
       "      <td>0.110275</td>\n",
       "      <td>-0.032863</td>\n",
       "      <td>1.000000</td>\n",
       "      <td>-0.005002</td>\n",
       "      <td>0.089167</td>\n",
       "      <td>-0.007044</td>\n",
       "      <td>-0.007600</td>\n",
       "      <td>0.141947</td>\n",
       "    </tr>\n",
       "    <tr>\n",
       "      <th>Security</th>\n",
       "      <td>0.000323</td>\n",
       "      <td>-0.000469</td>\n",
       "      <td>-0.002284</td>\n",
       "      <td>0.019061</td>\n",
       "      <td>0.015105</td>\n",
       "      <td>-0.009443</td>\n",
       "      <td>-0.005002</td>\n",
       "      <td>1.000000</td>\n",
       "      <td>0.317673</td>\n",
       "      <td>0.014007</td>\n",
       "      <td>-0.014518</td>\n",
       "      <td>0.021982</td>\n",
       "    </tr>\n",
       "    <tr>\n",
       "      <th>FixedDepositAccount</th>\n",
       "      <td>0.007744</td>\n",
       "      <td>0.010085</td>\n",
       "      <td>0.169535</td>\n",
       "      <td>0.014327</td>\n",
       "      <td>0.136410</td>\n",
       "      <td>0.013982</td>\n",
       "      <td>0.089167</td>\n",
       "      <td>0.317673</td>\n",
       "      <td>1.000000</td>\n",
       "      <td>0.176082</td>\n",
       "      <td>0.278924</td>\n",
       "      <td>0.316131</td>\n",
       "    </tr>\n",
       "    <tr>\n",
       "      <th>InternetBanking</th>\n",
       "      <td>0.011227</td>\n",
       "      <td>0.011355</td>\n",
       "      <td>0.014202</td>\n",
       "      <td>0.010900</td>\n",
       "      <td>-0.003475</td>\n",
       "      <td>-0.014556</td>\n",
       "      <td>-0.007044</td>\n",
       "      <td>0.014007</td>\n",
       "      <td>0.176082</td>\n",
       "      <td>1.000000</td>\n",
       "      <td>0.004960</td>\n",
       "      <td>0.006034</td>\n",
       "    </tr>\n",
       "    <tr>\n",
       "      <th>CreditCard</th>\n",
       "      <td>0.007344</td>\n",
       "      <td>0.008779</td>\n",
       "      <td>-0.002780</td>\n",
       "      <td>0.010784</td>\n",
       "      <td>-0.006577</td>\n",
       "      <td>-0.011766</td>\n",
       "      <td>-0.007600</td>\n",
       "      <td>-0.014518</td>\n",
       "      <td>0.278924</td>\n",
       "      <td>0.004960</td>\n",
       "      <td>1.000000</td>\n",
       "      <td>0.002536</td>\n",
       "    </tr>\n",
       "    <tr>\n",
       "      <th>LoanOnCard</th>\n",
       "      <td>-0.008147</td>\n",
       "      <td>-0.007801</td>\n",
       "      <td>0.502626</td>\n",
       "      <td>0.061761</td>\n",
       "      <td>0.366912</td>\n",
       "      <td>0.137010</td>\n",
       "      <td>0.141947</td>\n",
       "      <td>0.021982</td>\n",
       "      <td>0.316131</td>\n",
       "      <td>0.006034</td>\n",
       "      <td>0.002536</td>\n",
       "      <td>1.000000</td>\n",
       "    </tr>\n",
       "  </tbody>\n",
       "</table>\n",
       "</div>"
      ],
      "text/plain": [
       "                          Age  CustomerSince  HighestSpend  HiddenScore  \\\n",
       "Age                  1.000000       0.994208     -0.054951    -0.045289   \n",
       "CustomerSince        0.994208       1.000000     -0.046092    -0.051456   \n",
       "HighestSpend        -0.054951      -0.046092      1.000000    -0.158357   \n",
       "HiddenScore         -0.045289      -0.051456     -0.158357     1.000000   \n",
       "MonthlyAverageSpend -0.051896      -0.049918      0.646109    -0.109180   \n",
       "Level                0.042750       0.014545     -0.188909     0.065762   \n",
       "Mortgage            -0.013272      -0.011380      0.207236    -0.021396   \n",
       "Security             0.000323      -0.000469     -0.002284     0.019061   \n",
       "FixedDepositAccount  0.007744       0.010085      0.169535     0.014327   \n",
       "InternetBanking      0.011227       0.011355      0.014202     0.010900   \n",
       "CreditCard           0.007344       0.008779     -0.002780     0.010784   \n",
       "LoanOnCard          -0.008147      -0.007801      0.502626     0.061761   \n",
       "\n",
       "                     MonthlyAverageSpend     Level  Mortgage  Security  \\\n",
       "Age                            -0.051896  0.042750 -0.013272  0.000323   \n",
       "CustomerSince                  -0.049918  0.014545 -0.011380 -0.000469   \n",
       "HighestSpend                    0.646109 -0.188909  0.207236 -0.002284   \n",
       "HiddenScore                    -0.109180  0.065762 -0.021396  0.019061   \n",
       "MonthlyAverageSpend             1.000000 -0.137020  0.110275  0.015105   \n",
       "Level                          -0.137020  1.000000 -0.032863 -0.009443   \n",
       "Mortgage                        0.110275 -0.032863  1.000000 -0.005002   \n",
       "Security                        0.015105 -0.009443 -0.005002  1.000000   \n",
       "FixedDepositAccount             0.136410  0.013982  0.089167  0.317673   \n",
       "InternetBanking                -0.003475 -0.014556 -0.007044  0.014007   \n",
       "CreditCard                     -0.006577 -0.011766 -0.007600 -0.014518   \n",
       "LoanOnCard                      0.366912  0.137010  0.141947  0.021982   \n",
       "\n",
       "                     FixedDepositAccount  InternetBanking  CreditCard  \\\n",
       "Age                             0.007744         0.011227    0.007344   \n",
       "CustomerSince                   0.010085         0.011355    0.008779   \n",
       "HighestSpend                    0.169535         0.014202   -0.002780   \n",
       "HiddenScore                     0.014327         0.010900    0.010784   \n",
       "MonthlyAverageSpend             0.136410        -0.003475   -0.006577   \n",
       "Level                           0.013982        -0.014556   -0.011766   \n",
       "Mortgage                        0.089167        -0.007044   -0.007600   \n",
       "Security                        0.317673         0.014007   -0.014518   \n",
       "FixedDepositAccount             1.000000         0.176082    0.278924   \n",
       "InternetBanking                 0.176082         1.000000    0.004960   \n",
       "CreditCard                      0.278924         0.004960    1.000000   \n",
       "LoanOnCard                      0.316131         0.006034    0.002536   \n",
       "\n",
       "                     LoanOnCard  \n",
       "Age                   -0.008147  \n",
       "CustomerSince         -0.007801  \n",
       "HighestSpend           0.502626  \n",
       "HiddenScore            0.061761  \n",
       "MonthlyAverageSpend    0.366912  \n",
       "Level                  0.137010  \n",
       "Mortgage               0.141947  \n",
       "Security               0.021982  \n",
       "FixedDepositAccount    0.316131  \n",
       "InternetBanking        0.006034  \n",
       "CreditCard             0.002536  \n",
       "LoanOnCard             1.000000  "
      ]
     },
     "execution_count": 26,
     "metadata": {},
     "output_type": "execute_result"
    }
   ],
   "source": [
    "#Correlation analysis\n",
    "corr = cust_data.corr()\n",
    "corr"
   ]
  },
  {
   "cell_type": "code",
   "execution_count": 27,
   "metadata": {
    "id": "4yIBne1vJwVu",
    "outputId": "cc4577ac-0a44-446b-d6ab-f44fd21f4de8"
   },
   "outputs": [
    {
     "data": {
      "image/png": "[encoded data removed]",
      "text/plain": [
       "<Figure size 1200x3000 with 28 Axes>"
      ]
     },
     "metadata": {},
     "output_type": "display_data"
    },
    {
     "data": {
      "image/png": "[encoded data removed]",
      "text/plain": [
       "<Figure size 1000x1000 with 2 Axes>"
      ]
     },
     "metadata": {},
     "output_type": "display_data"
    }
   ],
   "source": [
    "#heatmap\n",
    "fig,ax = plt.subplots(figsize=(10, 10))   \n",
    "sns.heatmap(cust_data.corr(), ax=ax, annot=True, linewidths=0.05, fmt= '.2f',cmap=\"magma\") # the color intensity is based on \n",
    "plt.show()"
   ]
  },
  {
   "cell_type": "markdown",
   "metadata": {
    "id": "6vBADqeyJwVu"
   },
   "source": [
    "### As \"Age\" and \"customerSince\" are highly correlated, we can drop 1. I am dropping \"Age\""
   ]
  },
  {
   "cell_type": "code",
   "execution_count": 28,
   "metadata": {
    "id": "5oZ_7MxbJwVv"
   },
   "outputs": [],
   "source": [
    "cust_data = cust_data.drop(columns='Age')"
   ]
  },
  {
   "cell_type": "code",
   "execution_count": 29,
   "metadata": {
    "id": "PEiF-jJJJwVv",
    "outputId": "b28edbc3-0c5c-4ab2-a487-e929d9bdebf8"
   },
   "outputs": [
    {
     "data": {
      "text/plain": [
       "(4980, 11)"
      ]
     },
     "execution_count": 29,
     "metadata": {},
     "output_type": "execute_result"
    }
   ],
   "source": [
    "cust_data.shape"
   ]
  },
  {
   "cell_type": "code",
   "execution_count": 30,
   "metadata": {
    "id": "EEJgZYrGJwVv",
    "outputId": "dcb19d37-8dc1-4a36-c89d-1737d55b2ea7"
   },
   "outputs": [
    {
     "data": {
      "text/html": [
       "<div>\n",
       "<style scoped>\n",
       "    .dataframe tbody tr th:only-of-type {\n",
       "        vertical-align: middle;\n",
       "    }\n",
       "\n",
       "    .dataframe tbody tr th {\n",
       "        vertical-align: top;\n",
       "    }\n",
       "\n",
       "    .dataframe thead th {\n",
       "        text-align: right;\n",
       "    }\n",
       "</style>\n",
       "<table border=\"1\" class=\"dataframe\">\n",
       "  <thead>\n",
       "    <tr style=\"text-align: right;\">\n",
       "      <th></th>\n",
       "      <th>CustomerSince</th>\n",
       "      <th>HighestSpend</th>\n",
       "      <th>HiddenScore</th>\n",
       "      <th>MonthlyAverageSpend</th>\n",
       "      <th>Level</th>\n",
       "      <th>Mortgage</th>\n",
       "      <th>Security</th>\n",
       "      <th>FixedDepositAccount</th>\n",
       "      <th>InternetBanking</th>\n",
       "      <th>CreditCard</th>\n",
       "      <th>LoanOnCard</th>\n",
       "    </tr>\n",
       "  </thead>\n",
       "  <tbody>\n",
       "    <tr>\n",
       "      <th>9</th>\n",
       "      <td>9</td>\n",
       "      <td>180</td>\n",
       "      <td>1</td>\n",
       "      <td>8.9</td>\n",
       "      <td>3</td>\n",
       "      <td>0</td>\n",
       "      <td>0</td>\n",
       "      <td>0</td>\n",
       "      <td>0</td>\n",
       "      <td>0</td>\n",
       "      <td>1.0</td>\n",
       "    </tr>\n",
       "    <tr>\n",
       "      <th>10</th>\n",
       "      <td>39</td>\n",
       "      <td>105</td>\n",
       "      <td>4</td>\n",
       "      <td>2.4</td>\n",
       "      <td>3</td>\n",
       "      <td>0</td>\n",
       "      <td>0</td>\n",
       "      <td>0</td>\n",
       "      <td>0</td>\n",
       "      <td>0</td>\n",
       "      <td>0.0</td>\n",
       "    </tr>\n",
       "    <tr>\n",
       "      <th>11</th>\n",
       "      <td>5</td>\n",
       "      <td>45</td>\n",
       "      <td>3</td>\n",
       "      <td>0.1</td>\n",
       "      <td>2</td>\n",
       "      <td>0</td>\n",
       "      <td>0</td>\n",
       "      <td>0</td>\n",
       "      <td>1</td>\n",
       "      <td>0</td>\n",
       "      <td>0.0</td>\n",
       "    </tr>\n",
       "    <tr>\n",
       "      <th>12</th>\n",
       "      <td>23</td>\n",
       "      <td>114</td>\n",
       "      <td>2</td>\n",
       "      <td>3.8</td>\n",
       "      <td>3</td>\n",
       "      <td>0</td>\n",
       "      <td>1</td>\n",
       "      <td>0</td>\n",
       "      <td>0</td>\n",
       "      <td>0</td>\n",
       "      <td>0.0</td>\n",
       "    </tr>\n",
       "    <tr>\n",
       "      <th>13</th>\n",
       "      <td>32</td>\n",
       "      <td>40</td>\n",
       "      <td>4</td>\n",
       "      <td>2.5</td>\n",
       "      <td>2</td>\n",
       "      <td>0</td>\n",
       "      <td>0</td>\n",
       "      <td>0</td>\n",
       "      <td>1</td>\n",
       "      <td>0</td>\n",
       "      <td>0.0</td>\n",
       "    </tr>\n",
       "    <tr>\n",
       "      <th>14</th>\n",
       "      <td>41</td>\n",
       "      <td>112</td>\n",
       "      <td>1</td>\n",
       "      <td>2.0</td>\n",
       "      <td>1</td>\n",
       "      <td>0</td>\n",
       "      <td>1</td>\n",
       "      <td>0</td>\n",
       "      <td>0</td>\n",
       "      <td>0</td>\n",
       "      <td>0.0</td>\n",
       "    </tr>\n",
       "    <tr>\n",
       "      <th>15</th>\n",
       "      <td>30</td>\n",
       "      <td>22</td>\n",
       "      <td>1</td>\n",
       "      <td>1.5</td>\n",
       "      <td>3</td>\n",
       "      <td>0</td>\n",
       "      <td>0</td>\n",
       "      <td>0</td>\n",
       "      <td>1</td>\n",
       "      <td>1</td>\n",
       "      <td>0.0</td>\n",
       "    </tr>\n",
       "    <tr>\n",
       "      <th>16</th>\n",
       "      <td>14</td>\n",
       "      <td>130</td>\n",
       "      <td>4</td>\n",
       "      <td>4.7</td>\n",
       "      <td>3</td>\n",
       "      <td>134</td>\n",
       "      <td>0</td>\n",
       "      <td>0</td>\n",
       "      <td>0</td>\n",
       "      <td>0</td>\n",
       "      <td>1.0</td>\n",
       "    </tr>\n",
       "    <tr>\n",
       "      <th>17</th>\n",
       "      <td>18</td>\n",
       "      <td>81</td>\n",
       "      <td>4</td>\n",
       "      <td>2.4</td>\n",
       "      <td>1</td>\n",
       "      <td>0</td>\n",
       "      <td>0</td>\n",
       "      <td>0</td>\n",
       "      <td>0</td>\n",
       "      <td>0</td>\n",
       "      <td>0.0</td>\n",
       "    </tr>\n",
       "    <tr>\n",
       "      <th>18</th>\n",
       "      <td>21</td>\n",
       "      <td>193</td>\n",
       "      <td>2</td>\n",
       "      <td>8.1</td>\n",
       "      <td>3</td>\n",
       "      <td>0</td>\n",
       "      <td>0</td>\n",
       "      <td>0</td>\n",
       "      <td>0</td>\n",
       "      <td>0</td>\n",
       "      <td>1.0</td>\n",
       "    </tr>\n",
       "  </tbody>\n",
       "</table>\n",
       "</div>"
      ],
      "text/plain": [
       "    CustomerSince  HighestSpend  HiddenScore  MonthlyAverageSpend  Level  \\\n",
       "9               9           180            1                  8.9      3   \n",
       "10             39           105            4                  2.4      3   \n",
       "11              5            45            3                  0.1      2   \n",
       "12             23           114            2                  3.8      3   \n",
       "13             32            40            4                  2.5      2   \n",
       "14             41           112            1                  2.0      1   \n",
       "15             30            22            1                  1.5      3   \n",
       "16             14           130            4                  4.7      3   \n",
       "17             18            81            4                  2.4      1   \n",
       "18             21           193            2                  8.1      3   \n",
       "\n",
       "    Mortgage  Security  FixedDepositAccount  InternetBanking  CreditCard  \\\n",
       "9          0         0                    0                0           0   \n",
       "10         0         0                    0                0           0   \n",
       "11         0         0                    0                1           0   \n",
       "12         0         1                    0                0           0   \n",
       "13         0         0                    0                1           0   \n",
       "14         0         1                    0                0           0   \n",
       "15         0         0                    0                1           1   \n",
       "16       134         0                    0                0           0   \n",
       "17         0         0                    0                0           0   \n",
       "18         0         0                    0                0           0   \n",
       "\n",
       "    LoanOnCard  \n",
       "9          1.0  \n",
       "10         0.0  \n",
       "11         0.0  \n",
       "12         0.0  \n",
       "13         0.0  \n",
       "14         0.0  \n",
       "15         0.0  \n",
       "16         1.0  \n",
       "17         0.0  \n",
       "18         1.0  "
      ]
     },
     "execution_count": 30,
     "metadata": {},
     "output_type": "execute_result"
    }
   ],
   "source": [
    "cust_data.head(10)"
   ]
  },
  {
   "cell_type": "markdown",
   "metadata": {
    "id": "Ej4d0Q4eJwVv"
   },
   "source": [
    "## Spliting the data \n",
    "We will use 70% of data for training and 30% for testing."
   ]
  },
  {
   "cell_type": "code",
   "execution_count": 31,
   "metadata": {
    "id": "ZEnfmnl_JwVv",
    "outputId": "a2e95a12-5d7a-4198-ed40-2e0a46be32ff"
   },
   "outputs": [
    {
     "data": {
      "text/html": [
       "<div>\n",
       "<style scoped>\n",
       "    .dataframe tbody tr th:only-of-type {\n",
       "        vertical-align: middle;\n",
       "    }\n",
       "\n",
       "    .dataframe tbody tr th {\n",
       "        vertical-align: top;\n",
       "    }\n",
       "\n",
       "    .dataframe thead th {\n",
       "        text-align: right;\n",
       "    }\n",
       "</style>\n",
       "<table border=\"1\" class=\"dataframe\">\n",
       "  <thead>\n",
       "    <tr style=\"text-align: right;\">\n",
       "      <th></th>\n",
       "      <th>CustomerSince</th>\n",
       "      <th>HighestSpend</th>\n",
       "      <th>HiddenScore</th>\n",
       "      <th>MonthlyAverageSpend</th>\n",
       "      <th>Level</th>\n",
       "      <th>Mortgage</th>\n",
       "      <th>Security</th>\n",
       "      <th>FixedDepositAccount</th>\n",
       "      <th>InternetBanking</th>\n",
       "      <th>CreditCard</th>\n",
       "    </tr>\n",
       "  </thead>\n",
       "  <tbody>\n",
       "    <tr>\n",
       "      <th>1479</th>\n",
       "      <td>4</td>\n",
       "      <td>43</td>\n",
       "      <td>1</td>\n",
       "      <td>1.0</td>\n",
       "      <td>3</td>\n",
       "      <td>102</td>\n",
       "      <td>0</td>\n",
       "      <td>0</td>\n",
       "      <td>0</td>\n",
       "      <td>0</td>\n",
       "    </tr>\n",
       "    <tr>\n",
       "      <th>1727</th>\n",
       "      <td>26</td>\n",
       "      <td>54</td>\n",
       "      <td>2</td>\n",
       "      <td>1.5</td>\n",
       "      <td>2</td>\n",
       "      <td>0</td>\n",
       "      <td>0</td>\n",
       "      <td>0</td>\n",
       "      <td>0</td>\n",
       "      <td>1</td>\n",
       "    </tr>\n",
       "    <tr>\n",
       "      <th>2843</th>\n",
       "      <td>3</td>\n",
       "      <td>20</td>\n",
       "      <td>4</td>\n",
       "      <td>1.0</td>\n",
       "      <td>1</td>\n",
       "      <td>134</td>\n",
       "      <td>0</td>\n",
       "      <td>0</td>\n",
       "      <td>1</td>\n",
       "      <td>1</td>\n",
       "    </tr>\n",
       "    <tr>\n",
       "      <th>4106</th>\n",
       "      <td>22</td>\n",
       "      <td>54</td>\n",
       "      <td>1</td>\n",
       "      <td>1.2</td>\n",
       "      <td>2</td>\n",
       "      <td>0</td>\n",
       "      <td>0</td>\n",
       "      <td>0</td>\n",
       "      <td>0</td>\n",
       "      <td>0</td>\n",
       "    </tr>\n",
       "    <tr>\n",
       "      <th>1768</th>\n",
       "      <td>18</td>\n",
       "      <td>128</td>\n",
       "      <td>4</td>\n",
       "      <td>5.3</td>\n",
       "      <td>1</td>\n",
       "      <td>84</td>\n",
       "      <td>0</td>\n",
       "      <td>0</td>\n",
       "      <td>0</td>\n",
       "      <td>0</td>\n",
       "    </tr>\n",
       "  </tbody>\n",
       "</table>\n",
       "</div>"
      ],
      "text/plain": [
       "      CustomerSince  HighestSpend  HiddenScore  MonthlyAverageSpend  Level  \\\n",
       "1479              4            43            1                  1.0      3   \n",
       "1727             26            54            2                  1.5      2   \n",
       "2843              3            20            4                  1.0      1   \n",
       "4106             22            54            1                  1.2      2   \n",
       "1768             18           128            4                  5.3      1   \n",
       "\n",
       "      Mortgage  Security  FixedDepositAccount  InternetBanking  CreditCard  \n",
       "1479       102         0                    0                0           0  \n",
       "1727         0         0                    0                0           1  \n",
       "2843       134         0                    0                1           1  \n",
       "4106         0         0                    0                0           0  \n",
       "1768        84         0                    0                0           0  "
      ]
     },
     "execution_count": 31,
     "metadata": {},
     "output_type": "execute_result"
    }
   ],
   "source": [
    "from sklearn.model_selection import train_test_split\n",
    "\n",
    "X = cust_data.drop('LoanOnCard',axis=1)     # Predictor feature columns (8 X m)\n",
    "Y = cust_data['LoanOnCard']   # Predicted class (1=True, 0=False) (1 X m)\n",
    "\n",
    "x_train, x_test, y_train, y_test = train_test_split(X, Y, test_size=0.3, random_state=1)\n",
    "# 1 is just any random seed number\n",
    "\n",
    "x_train.head()"
   ]
  },
  {
   "cell_type": "markdown",
   "metadata": {
    "id": "E7xeqGOxJwVv"
   },
   "source": [
    "## Logistic Regression"
   ]
  },
  {
   "cell_type": "code",
   "execution_count": 32,
   "metadata": {
    "id": "pw-BiGn_JwVv",
    "outputId": "0b9d3163-283b-41c6-9e07-3dc820b9299a"
   },
   "outputs": [
    {
     "name": "stdout",
     "output_type": "stream",
     "text": [
      "          0         1         2         3         4         5       6  \\\n",
      "0 -0.008115  0.042455  0.368331  0.085283  1.268261  0.000155 -0.8128   \n",
      "\n",
      "         7        8         9  intercept  \n",
      "0  3.09196 -0.63182 -0.905691  -9.775352  \n"
     ]
    }
   ],
   "source": [
    "# import model and matrics\n",
    "from sklearn.linear_model import LogisticRegression\n",
    "from sklearn.metrics import accuracy_score, confusion_matrix, roc_auc_score, precision_score, recall_score, f1_score\n",
    "# Fit the model on train\n",
    "model = LogisticRegression(solver=\"liblinear\")\n",
    "model.fit(x_train, y_train)\n",
    "#predict on test\n",
    "y_predict = model.predict(x_test)\n",
    "coef_df = pd.DataFrame(model.coef_)\n",
    "coef_df['intercept'] = model.intercept_\n",
    "print(coef_df)"
   ]
  },
  {
   "cell_type": "code",
   "execution_count": 33,
   "metadata": {
    "id": "1ZYZnX8YJwVv",
    "outputId": "0a02eba1-1757-4b76-f004-4077b2cffd6e"
   },
   "outputs": [
    {
     "name": "stdout",
     "output_type": "stream",
     "text": [
      "0.9451137884872824\n"
     ]
    }
   ],
   "source": [
    "model_score = model.score(x_test, y_test)\n",
    "print(model_score)"
   ]
  },
  {
   "cell_type": "code",
   "execution_count": 34,
   "metadata": {
    "id": "YrRhG_wsJwVw",
    "outputId": "829af6b4-3ade-4760-ebf3-310370f73a25"
   },
   "outputs": [
    {
     "name": "stdout",
     "output_type": "stream",
     "text": [
      "Accuracy Score: 0.9451137884872824\n",
      "Confusion Matrix: \n",
      "[[1326   15]\n",
      " [  67   86]]\n",
      "Area Under Curve: 0.7754529104706761\n",
      "Recall score: 0.5620915032679739\n",
      "Precision score: 0.8514851485148515\n",
      "f1 score: 0.6771653543307087\n"
     ]
    }
   ],
   "source": [
    "# performance\n",
    "print(f'Accuracy Score: {accuracy_score(y_test,y_predict)}')\n",
    "print(f'Confusion Matrix: \\n{confusion_matrix(y_test, y_predict)}')\n",
    "print(f'Area Under Curve: {roc_auc_score(y_test, y_predict)}')\n",
    "print(f'Recall score: {recall_score(y_test,y_predict)}')\n",
    "print(f'Precision score: {precision_score(y_test,y_predict)}')\n",
    "print(f'f1 score: {f1_score(y_test,y_predict)}')"
   ]
  },
  {
   "cell_type": "markdown",
   "metadata": {
    "id": "celHLHYaJwVw"
   },
   "source": [
    "### For minority class, the above model is able to predict 86 correctly, out of 153. Although the accuracy is high, still the model is not a good model. We need to handle the unbalanced data "
   ]
  },
  {
   "cell_type": "markdown",
   "metadata": {
    "id": "gURKKKMKJwVw"
   },
   "source": [
    "## Weighted Logistic Regression to handle class inbalance\n"
   ]
  },
  {
   "cell_type": "code",
   "execution_count": 35,
   "metadata": {
    "id": "cQYb9zLhJwVw"
   },
   "outputs": [],
   "source": [
    "# define class weights\n",
    "w = {0:1, 1:2}\n",
    "\n",
    "# Fit the model on train\n",
    "model_weighted = LogisticRegression(solver=\"liblinear\", class_weight=w)\n",
    "model_weighted.fit(x_train, y_train)\n",
    "#predict on test\n",
    "y_predict = model_weighted.predict(x_test)"
   ]
  },
  {
   "cell_type": "code",
   "execution_count": 36,
   "metadata": {
    "id": "KTcbwJelJwVw",
    "outputId": "b0d3c37d-20bc-4d4b-9745-c7da9eb31cb2"
   },
   "outputs": [
    {
     "name": "stdout",
     "output_type": "stream",
     "text": [
      "Accuracy Score: 0.9444444444444444\n",
      "Confusion Matrix: \n",
      "[[1305   36]\n",
      " [  47  106]]\n",
      "Area Under Curve: 0.8329824099662237\n",
      "Recall score: 0.6928104575163399\n",
      "Precision score: 0.7464788732394366\n",
      "f1 score: 0.7186440677966102\n"
     ]
    }
   ],
   "source": [
    "print(f'Accuracy Score: {accuracy_score(y_test,y_predict)}')\n",
    "print(f'Confusion Matrix: \\n{confusion_matrix(y_test, y_predict)}')\n",
    "print(f'Area Under Curve: {roc_auc_score(y_test, y_predict)}')\n",
    "print(f'Recall score: {recall_score(y_test,y_predict)}')\n",
    "print(f'Precision score: {precision_score(y_test,y_predict)}')\n",
    "print(f'f1 score: {f1_score(y_test,y_predict)}')"
   ]
  },
  {
   "cell_type": "markdown",
   "metadata": {
    "id": "q-5OM8suJwVw"
   },
   "source": [
    "### Although the accuracy decreases, AUC and recall increases significantly, hence, it is a better model. Hence we select \"model_weighted\"."
   ]
  },
  {
   "cell_type": "markdown",
   "metadata": {
    "id": "YLfXQ5FiJwVw"
   },
   "source": [
    "## Train Naive bayes algorithm"
   ]
  },
  {
   "cell_type": "code",
   "execution_count": 37,
   "metadata": {
    "id": "YqpFLcdeJwVw",
    "outputId": "bc72c68e-32f9-46c2-a708-f9e9de1540f9"
   },
   "outputs": [
    {
     "data": {
      "text/html": [
       "<style>#sk-container-id-1 {\n",
       "  /* Definition of color scheme common for light and dark mode */\n",
       "  --sklearn-color-text: black;\n",
       "  --sklearn-color-line: gray;\n",
       "  /* Definition of color scheme for unfitted estimators */\n",
       "  --sklearn-color-unfitted-level-0: #fff5e6;\n",
       "  --sklearn-color-unfitted-level-1: #f6e4d2;\n",
       "  --sklearn-color-unfitted-level-2: #ffe0b3;\n",
       "  --sklearn-color-unfitted-level-3: chocolate;\n",
       "  /* Definition of color scheme for fitted estimators */\n",
       "  --sklearn-color-fitted-level-0: #f0f8ff;\n",
       "  --sklearn-color-fitted-level-1: #d4ebff;\n",
       "  --sklearn-color-fitted-level-2: #b3dbfd;\n",
       "  --sklearn-color-fitted-level-3: cornflowerblue;\n",
       "\n",
       "  /* Specific color for light theme */\n",
       "  --sklearn-color-text-on-default-background: var(--sg-text-color, var(--theme-code-foreground, var(--jp-content-font-color1, black)));\n",
       "  --sklearn-color-background: var(--sg-background-color, var(--theme-background, var(--jp-layout-color0, white)));\n",
       "  --sklearn-color-border-box: var(--sg-text-color, var(--theme-code-foreground, var(--jp-content-font-color1, black)));\n",
       "  --sklearn-color-icon: #696969;\n",
       "\n",
       "  @media (prefers-color-scheme: dark) {\n",
       "    /* Redefinition of color scheme for dark theme */\n",
       "    --sklearn-color-text-on-default-background: var(--sg-text-color, var(--theme-code-foreground, var(--jp-content-font-color1, white)));\n",
       "    --sklearn-color-background: var(--sg-background-color, var(--theme-background, var(--jp-layout-color0, #111)));\n",
       "    --sklearn-color-border-box: var(--sg-text-color, var(--theme-code-foreground, var(--jp-content-font-color1, white)));\n",
       "    --sklearn-color-icon: #878787;\n",
       "  }\n",
       "}\n",
       "\n",
       "#sk-container-id-1 {\n",
       "  color: var(--sklearn-color-text);\n",
       "}\n",
       "\n",
       "#sk-container-id-1 pre {\n",
       "  padding: 0;\n",
       "}\n",
       "\n",
       "#sk-container-id-1 input.sk-hidden--visually {\n",
       "  border: 0;\n",
       "  clip: rect(1px 1px 1px 1px);\n",
       "  clip: rect(1px, 1px, 1px, 1px);\n",
       "  height: 1px;\n",
       "  margin: -1px;\n",
       "  overflow: hidden;\n",
       "  padding: 0;\n",
       "  position: absolute;\n",
       "  width: 1px;\n",
       "}\n",
       "\n",
       "#sk-container-id-1 div.sk-dashed-wrapped {\n",
       "  border: 1px dashed var(--sklearn-color-line);\n",
       "  margin: 0 0.4em 0.5em 0.4em;\n",
       "  box-sizing: border-box;\n",
       "  padding-bottom: 0.4em;\n",
       "  background-color: var(--sklearn-color-background);\n",
       "}\n",
       "\n",
       "#sk-container-id-1 div.sk-container {\n",
       "  /* jupyter's `normalize.less` sets `[hidden] { display: none; }`\n",
       "     but bootstrap.min.css set `[hidden] { display: none !important; }`\n",
       "     so we also need the `!important` here to be able to override the\n",
       "     default hidden behavior on the sphinx rendered scikit-learn.org.\n",
       "     See: https://github.com/scikit-learn/scikit-learn/issues/21755 */\n",
       "  display: inline-block !important;\n",
       "  position: relative;\n",
       "}\n",
       "\n",
       "#sk-container-id-1 div.sk-text-repr-fallback {\n",
       "  display: none;\n",
       "}\n",
       "\n",
       "div.sk-parallel-item,\n",
       "div.sk-serial,\n",
       "div.sk-item {\n",
       "  /* draw centered vertical line to link estimators */\n",
       "  background-image: linear-gradient(var(--sklearn-color-text-on-default-background), var(--sklearn-color-text-on-default-background));\n",
       "  background-size: 2px 100%;\n",
       "  background-repeat: no-repeat;\n",
       "  background-position: center center;\n",
       "}\n",
       "\n",
       "/* Parallel-specific style estimator block */\n",
       "\n",
       "#sk-container-id-1 div.sk-parallel-item::after {\n",
       "  content: \"\";\n",
       "  width: 100%;\n",
       "  border-bottom: 2px solid var(--sklearn-color-text-on-default-background);\n",
       "  flex-grow: 1;\n",
       "}\n",
       "\n",
       "#sk-container-id-1 div.sk-parallel {\n",
       "  display: flex;\n",
       "  align-items: stretch;\n",
       "  justify-content: center;\n",
       "  background-color: var(--sklearn-color-background);\n",
       "  position: relative;\n",
       "}\n",
       "\n",
       "#sk-container-id-1 div.sk-parallel-item {\n",
       "  display: flex;\n",
       "  flex-direction: column;\n",
       "}\n",
       "\n",
       "#sk-container-id-1 div.sk-parallel-item:first-child::after {\n",
       "  align-self: flex-end;\n",
       "  width: 50%;\n",
       "}\n",
       "\n",
       "#sk-container-id-1 div.sk-parallel-item:last-child::after {\n",
       "  align-self: flex-start;\n",
       "  width: 50%;\n",
       "}\n",
       "\n",
       "#sk-container-id-1 div.sk-parallel-item:only-child::after {\n",
       "  width: 0;\n",
       "}\n",
       "\n",
       "/* Serial-specific style estimator block */\n",
       "\n",
       "#sk-container-id-1 div.sk-serial {\n",
       "  display: flex;\n",
       "  flex-direction: column;\n",
       "  align-items: center;\n",
       "  background-color: var(--sklearn-color-background);\n",
       "  padding-right: 1em;\n",
       "  padding-left: 1em;\n",
       "}\n",
       "\n",
       "\n",
       "/* Toggleable style: style used for estimator/Pipeline/ColumnTransformer box that is\n",
       "clickable and can be expanded/collapsed.\n",
       "- Pipeline and ColumnTransformer use this feature and define the default style\n",
       "- Estimators will overwrite some part of the style using the `sk-estimator` class\n",
       "*/\n",
       "\n",
       "/* Pipeline and ColumnTransformer style (default) */\n",
       "\n",
       "#sk-container-id-1 div.sk-toggleable {\n",
       "  /* Default theme specific background. It is overwritten whether we have a\n",
       "  specific estimator or a Pipeline/ColumnTransformer */\n",
       "  background-color: var(--sklearn-color-background);\n",
       "}\n",
       "\n",
       "/* Toggleable label */\n",
       "#sk-container-id-1 label.sk-toggleable__label {\n",
       "  cursor: pointer;\n",
       "  display: block;\n",
       "  width: 100%;\n",
       "  margin-bottom: 0;\n",
       "  padding: 0.5em;\n",
       "  box-sizing: border-box;\n",
       "  text-align: center;\n",
       "}\n",
       "\n",
       "#sk-container-id-1 label.sk-toggleable__label-arrow:before {\n",
       "  /* Arrow on the left of the label */\n",
       "  content: \"▸\";\n",
       "  float: left;\n",
       "  margin-right: 0.25em;\n",
       "  color: var(--sklearn-color-icon);\n",
       "}\n",
       "\n",
       "#sk-container-id-1 label.sk-toggleable__label-arrow:hover:before {\n",
       "  color: var(--sklearn-color-text);\n",
       "}\n",
       "\n",
       "/* Toggleable content - dropdown */\n",
       "\n",
       "#sk-container-id-1 div.sk-toggleable__content {\n",
       "  max-height: 0;\n",
       "  max-width: 0;\n",
       "  overflow: hidden;\n",
       "  text-align: left;\n",
       "  /* unfitted */\n",
       "  background-color: var(--sklearn-color-unfitted-level-0);\n",
       "}\n",
       "\n",
       "#sk-container-id-1 div.sk-toggleable__content.fitted {\n",
       "  /* fitted */\n",
       "  background-color: var(--sklearn-color-fitted-level-0);\n",
       "}\n",
       "\n",
       "#sk-container-id-1 div.sk-toggleable__content pre {\n",
       "  margin: 0.2em;\n",
       "  border-radius: 0.25em;\n",
       "  color: var(--sklearn-color-text);\n",
       "  /* unfitted */\n",
       "  background-color: var(--sklearn-color-unfitted-level-0);\n",
       "}\n",
       "\n",
       "#sk-container-id-1 div.sk-toggleable__content.fitted pre {\n",
       "  /* unfitted */\n",
       "  background-color: var(--sklearn-color-fitted-level-0);\n",
       "}\n",
       "\n",
       "#sk-container-id-1 input.sk-toggleable__control:checked~div.sk-toggleable__content {\n",
       "  /* Expand drop-down */\n",
       "  max-height: 200px;\n",
       "  max-width: 100%;\n",
       "  overflow: auto;\n",
       "}\n",
       "\n",
       "#sk-container-id-1 input.sk-toggleable__control:checked~label.sk-toggleable__label-arrow:before {\n",
       "  content: \"▾\";\n",
       "}\n",
       "\n",
       "/* Pipeline/ColumnTransformer-specific style */\n",
       "\n",
       "#sk-container-id-1 div.sk-label input.sk-toggleable__control:checked~label.sk-toggleable__label {\n",
       "  color: var(--sklearn-color-text);\n",
       "  background-color: var(--sklearn-color-unfitted-level-2);\n",
       "}\n",
       "\n",
       "#sk-container-id-1 div.sk-label.fitted input.sk-toggleable__control:checked~label.sk-toggleable__label {\n",
       "  background-color: var(--sklearn-color-fitted-level-2);\n",
       "}\n",
       "\n",
       "/* Estimator-specific style */\n",
       "\n",
       "/* Colorize estimator box */\n",
       "#sk-container-id-1 div.sk-estimator input.sk-toggleable__control:checked~label.sk-toggleable__label {\n",
       "  /* unfitted */\n",
       "  background-color: var(--sklearn-color-unfitted-level-2);\n",
       "}\n",
       "\n",
       "#sk-container-id-1 div.sk-estimator.fitted input.sk-toggleable__control:checked~label.sk-toggleable__label {\n",
       "  /* fitted */\n",
       "  background-color: var(--sklearn-color-fitted-level-2);\n",
       "}\n",
       "\n",
       "#sk-container-id-1 div.sk-label label.sk-toggleable__label,\n",
       "#sk-container-id-1 div.sk-label label {\n",
       "  /* The background is the default theme color */\n",
       "  color: var(--sklearn-color-text-on-default-background);\n",
       "}\n",
       "\n",
       "/* On hover, darken the color of the background */\n",
       "#sk-container-id-1 div.sk-label:hover label.sk-toggleable__label {\n",
       "  color: var(--sklearn-color-text);\n",
       "  background-color: var(--sklearn-color-unfitted-level-2);\n",
       "}\n",
       "\n",
       "/* Label box, darken color on hover, fitted */\n",
       "#sk-container-id-1 div.sk-label.fitted:hover label.sk-toggleable__label.fitted {\n",
       "  color: var(--sklearn-color-text);\n",
       "  background-color: var(--sklearn-color-fitted-level-2);\n",
       "}\n",
       "\n",
       "/* Estimator label */\n",
       "\n",
       "#sk-container-id-1 div.sk-label label {\n",
       "  font-family: monospace;\n",
       "  font-weight: bold;\n",
       "  display: inline-block;\n",
       "  line-height: 1.2em;\n",
       "}\n",
       "\n",
       "#sk-container-id-1 div.sk-label-container {\n",
       "  text-align: center;\n",
       "}\n",
       "\n",
       "/* Estimator-specific */\n",
       "#sk-container-id-1 div.sk-estimator {\n",
       "  font-family: monospace;\n",
       "  border: 1px dotted var(--sklearn-color-border-box);\n",
       "  border-radius: 0.25em;\n",
       "  box-sizing: border-box;\n",
       "  margin-bottom: 0.5em;\n",
       "  /* unfitted */\n",
       "  background-color: var(--sklearn-color-unfitted-level-0);\n",
       "}\n",
       "\n",
       "#sk-container-id-1 div.sk-estimator.fitted {\n",
       "  /* fitted */\n",
       "  background-color: var(--sklearn-color-fitted-level-0);\n",
       "}\n",
       "\n",
       "/* on hover */\n",
       "#sk-container-id-1 div.sk-estimator:hover {\n",
       "  /* unfitted */\n",
       "  background-color: var(--sklearn-color-unfitted-level-2);\n",
       "}\n",
       "\n",
       "#sk-container-id-1 div.sk-estimator.fitted:hover {\n",
       "  /* fitted */\n",
       "  background-color: var(--sklearn-color-fitted-level-2);\n",
       "}\n",
       "\n",
       "/* Specification for estimator info (e.g. \"i\" and \"?\") */\n",
       "\n",
       "/* Common style for \"i\" and \"?\" */\n",
       "\n",
       ".sk-estimator-doc-link,\n",
       "a:link.sk-estimator-doc-link,\n",
       "a:visited.sk-estimator-doc-link {\n",
       "  float: right;\n",
       "  font-size: smaller;\n",
       "  line-height: 1em;\n",
       "  font-family: monospace;\n",
       "  background-color: var(--sklearn-color-background);\n",
       "  border-radius: 1em;\n",
       "  height: 1em;\n",
       "  width: 1em;\n",
       "  text-decoration: none !important;\n",
       "  margin-left: 1ex;\n",
       "  /* unfitted */\n",
       "  border: var(--sklearn-color-unfitted-level-1) 1pt solid;\n",
       "  color: var(--sklearn-color-unfitted-level-1);\n",
       "}\n",
       "\n",
       ".sk-estimator-doc-link.fitted,\n",
       "a:link.sk-estimator-doc-link.fitted,\n",
       "a:visited.sk-estimator-doc-link.fitted {\n",
       "  /* fitted */\n",
       "  border: var(--sklearn-color-fitted-level-1) 1pt solid;\n",
       "  color: var(--sklearn-color-fitted-level-1);\n",
       "}\n",
       "\n",
       "/* On hover */\n",
       "div.sk-estimator:hover .sk-estimator-doc-link:hover,\n",
       ".sk-estimator-doc-link:hover,\n",
       "div.sk-label-container:hover .sk-estimator-doc-link:hover,\n",
       ".sk-estimator-doc-link:hover {\n",
       "  /* unfitted */\n",
       "  background-color: var(--sklearn-color-unfitted-level-3);\n",
       "  color: var(--sklearn-color-background);\n",
       "  text-decoration: none;\n",
       "}\n",
       "\n",
       "div.sk-estimator.fitted:hover .sk-estimator-doc-link.fitted:hover,\n",
       ".sk-estimator-doc-link.fitted:hover,\n",
       "div.sk-label-container:hover .sk-estimator-doc-link.fitted:hover,\n",
       ".sk-estimator-doc-link.fitted:hover {\n",
       "  /* fitted */\n",
       "  background-color: var(--sklearn-color-fitted-level-3);\n",
       "  color: var(--sklearn-color-background);\n",
       "  text-decoration: none;\n",
       "}\n",
       "\n",
       "/* Span, style for the box shown on hovering the info icon */\n",
       ".sk-estimator-doc-link span {\n",
       "  display: none;\n",
       "  z-index: 9999;\n",
       "  position: relative;\n",
       "  font-weight: normal;\n",
       "  right: .2ex;\n",
       "  padding: .5ex;\n",
       "  margin: .5ex;\n",
       "  width: min-content;\n",
       "  min-width: 20ex;\n",
       "  max-width: 50ex;\n",
       "  color: var(--sklearn-color-text);\n",
       "  box-shadow: 2pt 2pt 4pt #999;\n",
       "  /* unfitted */\n",
       "  background: var(--sklearn-color-unfitted-level-0);\n",
       "  border: .5pt solid var(--sklearn-color-unfitted-level-3);\n",
       "}\n",
       "\n",
       ".sk-estimator-doc-link.fitted span {\n",
       "  /* fitted */\n",
       "  background: var(--sklearn-color-fitted-level-0);\n",
       "  border: var(--sklearn-color-fitted-level-3);\n",
       "}\n",
       "\n",
       ".sk-estimator-doc-link:hover span {\n",
       "  display: block;\n",
       "}\n",
       "\n",
       "/* \"?\"-specific style due to the `<a>` HTML tag */\n",
       "\n",
       "#sk-container-id-1 a.estimator_doc_link {\n",
       "  float: right;\n",
       "  font-size: 1rem;\n",
       "  line-height: 1em;\n",
       "  font-family: monospace;\n",
       "  background-color: var(--sklearn-color-background);\n",
       "  border-radius: 1rem;\n",
       "  height: 1rem;\n",
       "  width: 1rem;\n",
       "  text-decoration: none;\n",
       "  /* unfitted */\n",
       "  color: var(--sklearn-color-unfitted-level-1);\n",
       "  border: var(--sklearn-color-unfitted-level-1) 1pt solid;\n",
       "}\n",
       "\n",
       "#sk-container-id-1 a.estimator_doc_link.fitted {\n",
       "  /* fitted */\n",
       "  border: var(--sklearn-color-fitted-level-1) 1pt solid;\n",
       "  color: var(--sklearn-color-fitted-level-1);\n",
       "}\n",
       "\n",
       "/* On hover */\n",
       "#sk-container-id-1 a.estimator_doc_link:hover {\n",
       "  /* unfitted */\n",
       "  background-color: var(--sklearn-color-unfitted-level-3);\n",
       "  color: var(--sklearn-color-background);\n",
       "  text-decoration: none;\n",
       "}\n",
       "\n",
       "#sk-container-id-1 a.estimator_doc_link.fitted:hover {\n",
       "  /* fitted */\n",
       "  background-color: var(--sklearn-color-fitted-level-3);\n",
       "}\n",
       "</style><div id=\"sk-container-id-1\" class=\"sk-top-container\"><div class=\"sk-text-repr-fallback\"><pre>GaussianNB()</pre><b>In a Jupyter environment, please rerun this cell to show the HTML representation or trust the notebook. <br />On GitHub, the HTML representation is unable to render, please try loading this page with nbviewer.org.</b></div><div class=\"sk-container\" hidden><div class=\"sk-item\"><div class=\"sk-estimator fitted sk-toggleable\"><input class=\"sk-toggleable__control sk-hidden--visually\" id=\"sk-estimator-id-1\" type=\"checkbox\" checked><label for=\"sk-estimator-id-1\" class=\"sk-toggleable__label fitted sk-toggleable__label-arrow fitted\">&nbsp;&nbsp;GaussianNB<a class=\"sk-estimator-doc-link fitted\" rel=\"noreferrer\" target=\"_blank\" href=\"https://scikit-learn.org/1.4/modules/generated/sklearn.naive_bayes.GaussianNB.html\">?<span>Documentation for GaussianNB</span></a><span class=\"sk-estimator-doc-link fitted\">i<span>Fitted</span></span></label><div class=\"sk-toggleable__content fitted\"><pre>GaussianNB()</pre></div> </div></div></div></div>"
      ],
      "text/plain": [
       "GaussianNB()"
      ]
     },
     "execution_count": 37,
     "metadata": {},
     "output_type": "execute_result"
    }
   ],
   "source": [
    "from sklearn.naive_bayes import GaussianNB # using Gaussian algorithm from Naive Bayes\n",
    "\n",
    "# create the model\n",
    "diab_model = GaussianNB()\n",
    "\n",
    "diab_model.fit(x_train, y_train)"
   ]
  },
  {
   "cell_type": "markdown",
   "metadata": {
    "id": "TuKRWSkrJwVw"
   },
   "source": [
    "### Performance with training data"
   ]
  },
  {
   "cell_type": "code",
   "execution_count": 38,
   "metadata": {
    "id": "AIDm_5ljJwVx",
    "outputId": "bed3fb7e-039d-4c39-c474-d7c4bfb1c81b"
   },
   "outputs": [
    {
     "name": "stdout",
     "output_type": "stream",
     "text": [
      "Model Accuracy: 0.8867\n",
      "\n"
     ]
    }
   ],
   "source": [
    "diab_train_predict = diab_model.predict(x_train)\n",
    "\n",
    "from sklearn import metrics\n",
    "\n",
    "print(\"Model Accuracy: {0:.4f}\".format(metrics.accuracy_score(y_train, diab_train_predict)))\n",
    "print()"
   ]
  },
  {
   "cell_type": "markdown",
   "metadata": {
    "id": "iMHHiO3jJwVx"
   },
   "source": [
    "### Performance with testing data\n"
   ]
  },
  {
   "cell_type": "code",
   "execution_count": 39,
   "metadata": {
    "id": "Z1ShNZtVJwVx",
    "outputId": "be124fc3-7aa1-40ac-937c-278e27648d10"
   },
   "outputs": [
    {
     "name": "stdout",
     "output_type": "stream",
     "text": [
      "Model Accuracy: 0.8809\n",
      "\n"
     ]
    }
   ],
   "source": [
    "y_predict = diab_model.predict(x_test)\n",
    "\n",
    "from sklearn import metrics\n",
    "\n",
    "print(\"Model Accuracy: {0:.4f}\".format(metrics.accuracy_score(y_test, y_predict)))\n",
    "print()"
   ]
  },
  {
   "cell_type": "code",
   "execution_count": 40,
   "metadata": {
    "id": "uIjiaE8HJwVx",
    "outputId": "6e7010de-829e-4636-89c9-5bca72e71844"
   },
   "outputs": [
    {
     "name": "stdout",
     "output_type": "stream",
     "text": [
      "Accuracy Score: 0.8808567603748326\n",
      "Confusion Matrix: \n",
      "[[1230  111]\n",
      " [  67   86]]\n",
      "Area Under Curve: 0.7396587270254859\n",
      "Recall score: 0.5620915032679739\n"
     ]
    }
   ],
   "source": [
    "# performance\n",
    "print(f'Accuracy Score: {accuracy_score(y_test,y_predict)}')\n",
    "print(f'Confusion Matrix: \\n{confusion_matrix(y_test, y_predict)}')\n",
    "print(f'Area Under Curve: {roc_auc_score(y_test, y_predict)}')\n",
    "print(f'Recall score: {recall_score(y_test,y_predict)}')"
   ]
  },
  {
   "cell_type": "markdown",
   "metadata": {
    "id": "zvAoOqS-JwVx"
   },
   "source": [
    "### Use of class prior for inbalanced data"
   ]
  },
  {
   "cell_type": "code",
   "execution_count": 41,
   "metadata": {
    "id": "rBtgrlHuJwVx"
   },
   "outputs": [
    {
     "name": "stderr",
     "output_type": "stream",
     "text": [
      "C:\\Users\\user\\AppData\\Local\\Temp\\ipykernel_15432\\2069370495.py:3: FutureWarning: Series.ravel is deprecated. The underlying array is already 1D, so ravel is not necessary.  Use `to_numpy()` for conversion to a numpy array instead.\n",
      "  diab_model_cp.fit(x_train, y_train.ravel())\n"
     ]
    }
   ],
   "source": [
    "diab_model_cp = GaussianNB(priors=[0.1, 0.9])\n",
    "#diab_model.class_prior_ = [0.9, 0.1]\n",
    "diab_model_cp.fit(x_train, y_train.ravel())\n",
    "y_predict = diab_model_cp.predict(x_test)"
   ]
  },
  {
   "cell_type": "code",
   "execution_count": 42,
   "metadata": {
    "id": "OwsfT3TNJwVx",
    "outputId": "998177e5-919b-4711-a900-2e5234888db3"
   },
   "outputs": [
    {
     "name": "stdout",
     "output_type": "stream",
     "text": [
      "Accuracy Score: 0.8172690763052208\n",
      "Confusion Matrix: \n",
      "[[1080  261]\n",
      " [  12  141]]\n",
      "Area Under Curve: 0.8634688774838792\n",
      "Recall score: 0.9215686274509803\n"
     ]
    }
   ],
   "source": [
    "# performance\n",
    "print(f'Accuracy Score: {accuracy_score(y_test,y_predict)}')\n",
    "print(f'Confusion Matrix: \\n{confusion_matrix(y_test, y_predict)}')\n",
    "print(f'Area Under Curve: {roc_auc_score(y_test, y_predict)}')\n",
    "print(f'Recall score: {recall_score(y_test,y_predict)}')"
   ]
  },
  {
   "cell_type": "markdown",
   "metadata": {
    "id": "HC3Yvv1vJwVx"
   },
   "source": [
    "## Support Vector Machines"
   ]
  },
  {
   "cell_type": "code",
   "execution_count": 43,
   "metadata": {
    "id": "YU4xPHDCJwVy"
   },
   "outputs": [],
   "source": [
    "from sklearn import svm\n",
    "clf = svm.SVC(gamma=0.25, C=10)\n",
    "clf.fit(x_train , y_train)\n",
    "y_predict = clf.predict(x_test)"
   ]
  },
  {
   "cell_type": "code",
   "execution_count": 44,
   "metadata": {
    "id": "Gtf58gavJwVy"
   },
   "outputs": [],
   "source": [
    "### gamma is a measure of influence of a data point. It is inverse of distance of influence. \n",
    "### C is penalty of wrong classifications"
   ]
  },
  {
   "cell_type": "code",
   "execution_count": 45,
   "metadata": {
    "id": "THKXkB-cJwVy",
    "outputId": "e64ced36-4da1-49b3-b11d-1e799f53747d"
   },
   "outputs": [
    {
     "name": "stdout",
     "output_type": "stream",
     "text": [
      "Accuracy Score: 0.8989290495314591\n",
      "Confusion Matrix: \n",
      "[[1337    4]\n",
      " [ 147    6]]\n",
      "Area Under Curve: 0.5181164188270387\n",
      "Recall score: 0.0392156862745098\n",
      "Precision score: 0.6\n",
      "f1 score: 0.0736196319018405\n"
     ]
    }
   ],
   "source": [
    "print(f'Accuracy Score: {accuracy_score(y_test,y_predict)}')\n",
    "print(f'Confusion Matrix: \\n{confusion_matrix(y_test, y_predict)}')\n",
    "print(f'Area Under Curve: {roc_auc_score(y_test, y_predict)}')\n",
    "print(f'Recall score: {recall_score(y_test,y_predict)}')\n",
    "print(f'Precision score: {precision_score(y_test,y_predict)}')\n",
    "print(f'f1 score: {f1_score(y_test,y_predict)}')"
   ]
  },
  {
   "cell_type": "code",
   "execution_count": 46,
   "metadata": {
    "id": "SFmxVCW4JwVy",
    "outputId": "aebddd8c-764c-4be2-e499-9dfcb4a0b845"
   },
   "outputs": [
    {
     "data": {
      "text/html": [
       "<div>\n",
       "<style scoped>\n",
       "    .dataframe tbody tr th:only-of-type {\n",
       "        vertical-align: middle;\n",
       "    }\n",
       "\n",
       "    .dataframe tbody tr th {\n",
       "        vertical-align: top;\n",
       "    }\n",
       "\n",
       "    .dataframe thead th {\n",
       "        text-align: right;\n",
       "    }\n",
       "</style>\n",
       "<table border=\"1\" class=\"dataframe\">\n",
       "  <thead>\n",
       "    <tr style=\"text-align: right;\">\n",
       "      <th></th>\n",
       "      <th>CustomerSince</th>\n",
       "      <th>HighestSpend</th>\n",
       "      <th>HiddenScore</th>\n",
       "      <th>MonthlyAverageSpend</th>\n",
       "      <th>Level</th>\n",
       "      <th>Mortgage</th>\n",
       "      <th>Security</th>\n",
       "      <th>FixedDepositAccount</th>\n",
       "      <th>InternetBanking</th>\n",
       "      <th>CreditCard</th>\n",
       "    </tr>\n",
       "  </thead>\n",
       "  <tbody>\n",
       "    <tr>\n",
       "      <th>count</th>\n",
       "      <td>4.980000e+03</td>\n",
       "      <td>4.980000e+03</td>\n",
       "      <td>4.980000e+03</td>\n",
       "      <td>4.980000e+03</td>\n",
       "      <td>4.980000e+03</td>\n",
       "      <td>4.980000e+03</td>\n",
       "      <td>4.980000e+03</td>\n",
       "      <td>4.980000e+03</td>\n",
       "      <td>4.980000e+03</td>\n",
       "      <td>4.980000e+03</td>\n",
       "    </tr>\n",
       "    <tr>\n",
       "      <th>mean</th>\n",
       "      <td>-7.918699e-17</td>\n",
       "      <td>-8.418077e-17</td>\n",
       "      <td>-3.210283e-17</td>\n",
       "      <td>1.212774e-16</td>\n",
       "      <td>6.563246e-17</td>\n",
       "      <td>2.853585e-17</td>\n",
       "      <td>5.992529e-17</td>\n",
       "      <td>-2.639566e-17</td>\n",
       "      <td>6.705925e-17</td>\n",
       "      <td>-9.060133e-17</td>\n",
       "    </tr>\n",
       "    <tr>\n",
       "      <th>std</th>\n",
       "      <td>1.000100e+00</td>\n",
       "      <td>1.000100e+00</td>\n",
       "      <td>1.000100e+00</td>\n",
       "      <td>1.000100e+00</td>\n",
       "      <td>1.000100e+00</td>\n",
       "      <td>1.000100e+00</td>\n",
       "      <td>1.000100e+00</td>\n",
       "      <td>1.000100e+00</td>\n",
       "      <td>1.000100e+00</td>\n",
       "      <td>1.000100e+00</td>\n",
       "    </tr>\n",
       "    <tr>\n",
       "      <th>min</th>\n",
       "      <td>-2.015918e+00</td>\n",
       "      <td>-1.429540e+00</td>\n",
       "      <td>-1.216634e+00</td>\n",
       "      <td>-1.108414e+00</td>\n",
       "      <td>-1.048644e+00</td>\n",
       "      <td>-5.557467e-01</td>\n",
       "      <td>-3.414556e-01</td>\n",
       "      <td>-2.540817e-01</td>\n",
       "      <td>-1.217601e+00</td>\n",
       "      <td>-6.459012e-01</td>\n",
       "    </tr>\n",
       "    <tr>\n",
       "      <th>25%</th>\n",
       "      <td>-8.822859e-01</td>\n",
       "      <td>-7.565844e-01</td>\n",
       "      <td>-1.216634e+00</td>\n",
       "      <td>-7.083749e-01</td>\n",
       "      <td>-1.048644e+00</td>\n",
       "      <td>-5.557467e-01</td>\n",
       "      <td>-3.414556e-01</td>\n",
       "      <td>-2.540817e-01</td>\n",
       "      <td>-1.217601e+00</td>\n",
       "      <td>-6.459012e-01</td>\n",
       "    </tr>\n",
       "    <tr>\n",
       "      <th>50%</th>\n",
       "      <td>-1.026117e-02</td>\n",
       "      <td>-2.138784e-01</td>\n",
       "      <td>-3.448588e-01</td>\n",
       "      <td>-2.511878e-01</td>\n",
       "      <td>1.417474e-01</td>\n",
       "      <td>-5.557467e-01</td>\n",
       "      <td>-3.414556e-01</td>\n",
       "      <td>-2.540817e-01</td>\n",
       "      <td>8.212871e-01</td>\n",
       "      <td>-6.459012e-01</td>\n",
       "    </tr>\n",
       "    <tr>\n",
       "      <th>75%</th>\n",
       "      <td>8.617636e-01</td>\n",
       "      <td>5.242016e-01</td>\n",
       "      <td>5.269162e-01</td>\n",
       "      <td>3.345832e-01</td>\n",
       "      <td>1.332139e+00</td>\n",
       "      <td>4.361362e-01</td>\n",
       "      <td>-3.414556e-01</td>\n",
       "      <td>-2.540817e-01</td>\n",
       "      <td>8.212871e-01</td>\n",
       "      <td>1.548224e+00</td>\n",
       "    </tr>\n",
       "    <tr>\n",
       "      <th>max</th>\n",
       "      <td>1.995396e+00</td>\n",
       "      <td>3.259439e+00</td>\n",
       "      <td>1.398691e+00</td>\n",
       "      <td>4.606425e+00</td>\n",
       "      <td>1.332139e+00</td>\n",
       "      <td>5.680349e+00</td>\n",
       "      <td>2.928638e+00</td>\n",
       "      <td>3.935742e+00</td>\n",
       "      <td>8.212871e-01</td>\n",
       "      <td>1.548224e+00</td>\n",
       "    </tr>\n",
       "  </tbody>\n",
       "</table>\n",
       "</div>"
      ],
      "text/plain": [
       "       CustomerSince  HighestSpend   HiddenScore  MonthlyAverageSpend  \\\n",
       "count   4.980000e+03  4.980000e+03  4.980000e+03         4.980000e+03   \n",
       "mean   -7.918699e-17 -8.418077e-17 -3.210283e-17         1.212774e-16   \n",
       "std     1.000100e+00  1.000100e+00  1.000100e+00         1.000100e+00   \n",
       "min    -2.015918e+00 -1.429540e+00 -1.216634e+00        -1.108414e+00   \n",
       "25%    -8.822859e-01 -7.565844e-01 -1.216634e+00        -7.083749e-01   \n",
       "50%    -1.026117e-02 -2.138784e-01 -3.448588e-01        -2.511878e-01   \n",
       "75%     8.617636e-01  5.242016e-01  5.269162e-01         3.345832e-01   \n",
       "max     1.995396e+00  3.259439e+00  1.398691e+00         4.606425e+00   \n",
       "\n",
       "              Level      Mortgage      Security  FixedDepositAccount  \\\n",
       "count  4.980000e+03  4.980000e+03  4.980000e+03         4.980000e+03   \n",
       "mean   6.563246e-17  2.853585e-17  5.992529e-17        -2.639566e-17   \n",
       "std    1.000100e+00  1.000100e+00  1.000100e+00         1.000100e+00   \n",
       "min   -1.048644e+00 -5.557467e-01 -3.414556e-01        -2.540817e-01   \n",
       "25%   -1.048644e+00 -5.557467e-01 -3.414556e-01        -2.540817e-01   \n",
       "50%    1.417474e-01 -5.557467e-01 -3.414556e-01        -2.540817e-01   \n",
       "75%    1.332139e+00  4.361362e-01 -3.414556e-01        -2.540817e-01   \n",
       "max    1.332139e+00  5.680349e+00  2.928638e+00         3.935742e+00   \n",
       "\n",
       "       InternetBanking    CreditCard  \n",
       "count     4.980000e+03  4.980000e+03  \n",
       "mean      6.705925e-17 -9.060133e-17  \n",
       "std       1.000100e+00  1.000100e+00  \n",
       "min      -1.217601e+00 -6.459012e-01  \n",
       "25%      -1.217601e+00 -6.459012e-01  \n",
       "50%       8.212871e-01 -6.459012e-01  \n",
       "75%       8.212871e-01  1.548224e+00  \n",
       "max       8.212871e-01  1.548224e+00  "
      ]
     },
     "execution_count": 46,
     "metadata": {},
     "output_type": "execute_result"
    }
   ],
   "source": [
    "from scipy.stats import zscore\n",
    "XScaled  = X.apply(zscore)  # convert all attributes to Z scale \n",
    "XScaled.describe()"
   ]
  },
  {
   "cell_type": "code",
   "execution_count": 47,
   "metadata": {
    "id": "erpQ0Ys5JwVy"
   },
   "outputs": [],
   "source": [
    "x_trains, x_tests, y_trains, y_tests = train_test_split(XScaled, Y, test_size=0.3, random_state=1)"
   ]
  },
  {
   "cell_type": "code",
   "execution_count": 48,
   "metadata": {
    "id": "uHO4-YejJwVy"
   },
   "outputs": [],
   "source": [
    "clf = svm.SVC(gamma=0.25, C=10)\n",
    "clf.fit(x_trains , y_trains)\n",
    "y_predicts = clf.predict(x_tests)"
   ]
  },
  {
   "cell_type": "code",
   "execution_count": 49,
   "metadata": {
    "id": "1Zu1MX77JwVy",
    "outputId": "07e1f4ac-24ea-48ec-cf0e-0cf7e2deb24e"
   },
   "outputs": [
    {
     "name": "stdout",
     "output_type": "stream",
     "text": [
      "Accuracy Score: 0.9745649263721553\n",
      "Confusion Matrix: \n",
      "[[1332    9]\n",
      " [  29  124]]\n",
      "Area Under Curve: 0.9018730534719481\n",
      "Recall score: 0.8104575163398693\n",
      "Precision score: 0.9323308270676691\n",
      "f1 score: 0.8671328671328671\n"
     ]
    }
   ],
   "source": [
    "print(f'Accuracy Score: {accuracy_score(y_tests,y_predicts)}')\n",
    "print(f'Confusion Matrix: \\n{confusion_matrix(y_tests, y_predicts)}')\n",
    "print(f'Area Under Curve: {roc_auc_score(y_tests, y_predicts)}')\n",
    "print(f'Recall score: {recall_score(y_tests,y_predicts)}')\n",
    "print(f'Precision score: {precision_score(y_tests,y_predicts)}')\n",
    "print(f'f1 score: {f1_score(y_tests,y_predicts)}')"
   ]
  },
  {
   "cell_type": "markdown",
   "metadata": {
    "id": "BBP4efMhJwVy"
   },
   "source": [
    "## Decision Tree Classifier"
   ]
  },
  {
   "cell_type": "code",
   "execution_count": 50,
   "metadata": {
    "id": "ow8uebAGJwVy",
    "outputId": "6f5a7738-cd5e-4e34-ae02-a7825d8d852f"
   },
   "outputs": [
    {
     "data": {
      "text/html": [
       "<style>#sk-container-id-2 {\n",
       "  /* Definition of color scheme common for light and dark mode */\n",
       "  --sklearn-color-text: black;\n",
       "  --sklearn-color-line: gray;\n",
       "  /* Definition of color scheme for unfitted estimators */\n",
       "  --sklearn-color-unfitted-level-0: #fff5e6;\n",
       "  --sklearn-color-unfitted-level-1: #f6e4d2;\n",
       "  --sklearn-color-unfitted-level-2: #ffe0b3;\n",
       "  --sklearn-color-unfitted-level-3: chocolate;\n",
       "  /* Definition of color scheme for fitted estimators */\n",
       "  --sklearn-color-fitted-level-0: #f0f8ff;\n",
       "  --sklearn-color-fitted-level-1: #d4ebff;\n",
       "  --sklearn-color-fitted-level-2: #b3dbfd;\n",
       "  --sklearn-color-fitted-level-3: cornflowerblue;\n",
       "\n",
       "  /* Specific color for light theme */\n",
       "  --sklearn-color-text-on-default-background: var(--sg-text-color, var(--theme-code-foreground, var(--jp-content-font-color1, black)));\n",
       "  --sklearn-color-background: var(--sg-background-color, var(--theme-background, var(--jp-layout-color0, white)));\n",
       "  --sklearn-color-border-box: var(--sg-text-color, var(--theme-code-foreground, var(--jp-content-font-color1, black)));\n",
       "  --sklearn-color-icon: #696969;\n",
       "\n",
       "  @media (prefers-color-scheme: dark) {\n",
       "    /* Redefinition of color scheme for dark theme */\n",
       "    --sklearn-color-text-on-default-background: var(--sg-text-color, var(--theme-code-foreground, var(--jp-content-font-color1, white)));\n",
       "    --sklearn-color-background: var(--sg-background-color, var(--theme-background, var(--jp-layout-color0, #111)));\n",
       "    --sklearn-color-border-box: var(--sg-text-color, var(--theme-code-foreground, var(--jp-content-font-color1, white)));\n",
       "    --sklearn-color-icon: #878787;\n",
       "  }\n",
       "}\n",
       "\n",
       "#sk-container-id-2 {\n",
       "  color: var(--sklearn-color-text);\n",
       "}\n",
       "\n",
       "#sk-container-id-2 pre {\n",
       "  padding: 0;\n",
       "}\n",
       "\n",
       "#sk-container-id-2 input.sk-hidden--visually {\n",
       "  border: 0;\n",
       "  clip: rect(1px 1px 1px 1px);\n",
       "  clip: rect(1px, 1px, 1px, 1px);\n",
       "  height: 1px;\n",
       "  margin: -1px;\n",
       "  overflow: hidden;\n",
       "  padding: 0;\n",
       "  position: absolute;\n",
       "  width: 1px;\n",
       "}\n",
       "\n",
       "#sk-container-id-2 div.sk-dashed-wrapped {\n",
       "  border: 1px dashed var(--sklearn-color-line);\n",
       "  margin: 0 0.4em 0.5em 0.4em;\n",
       "  box-sizing: border-box;\n",
       "  padding-bottom: 0.4em;\n",
       "  background-color: var(--sklearn-color-background);\n",
       "}\n",
       "\n",
       "#sk-container-id-2 div.sk-container {\n",
       "  /* jupyter's `normalize.less` sets `[hidden] { display: none; }`\n",
       "     but bootstrap.min.css set `[hidden] { display: none !important; }`\n",
       "     so we also need the `!important` here to be able to override the\n",
       "     default hidden behavior on the sphinx rendered scikit-learn.org.\n",
       "     See: https://github.com/scikit-learn/scikit-learn/issues/21755 */\n",
       "  display: inline-block !important;\n",
       "  position: relative;\n",
       "}\n",
       "\n",
       "#sk-container-id-2 div.sk-text-repr-fallback {\n",
       "  display: none;\n",
       "}\n",
       "\n",
       "div.sk-parallel-item,\n",
       "div.sk-serial,\n",
       "div.sk-item {\n",
       "  /* draw centered vertical line to link estimators */\n",
       "  background-image: linear-gradient(var(--sklearn-color-text-on-default-background), var(--sklearn-color-text-on-default-background));\n",
       "  background-size: 2px 100%;\n",
       "  background-repeat: no-repeat;\n",
       "  background-position: center center;\n",
       "}\n",
       "\n",
       "/* Parallel-specific style estimator block */\n",
       "\n",
       "#sk-container-id-2 div.sk-parallel-item::after {\n",
       "  content: \"\";\n",
       "  width: 100%;\n",
       "  border-bottom: 2px solid var(--sklearn-color-text-on-default-background);\n",
       "  flex-grow: 1;\n",
       "}\n",
       "\n",
       "#sk-container-id-2 div.sk-parallel {\n",
       "  display: flex;\n",
       "  align-items: stretch;\n",
       "  justify-content: center;\n",
       "  background-color: var(--sklearn-color-background);\n",
       "  position: relative;\n",
       "}\n",
       "\n",
       "#sk-container-id-2 div.sk-parallel-item {\n",
       "  display: flex;\n",
       "  flex-direction: column;\n",
       "}\n",
       "\n",
       "#sk-container-id-2 div.sk-parallel-item:first-child::after {\n",
       "  align-self: flex-end;\n",
       "  width: 50%;\n",
       "}\n",
       "\n",
       "#sk-container-id-2 div.sk-parallel-item:last-child::after {\n",
       "  align-self: flex-start;\n",
       "  width: 50%;\n",
       "}\n",
       "\n",
       "#sk-container-id-2 div.sk-parallel-item:only-child::after {\n",
       "  width: 0;\n",
       "}\n",
       "\n",
       "/* Serial-specific style estimator block */\n",
       "\n",
       "#sk-container-id-2 div.sk-serial {\n",
       "  display: flex;\n",
       "  flex-direction: column;\n",
       "  align-items: center;\n",
       "  background-color: var(--sklearn-color-background);\n",
       "  padding-right: 1em;\n",
       "  padding-left: 1em;\n",
       "}\n",
       "\n",
       "\n",
       "/* Toggleable style: style used for estimator/Pipeline/ColumnTransformer box that is\n",
       "clickable and can be expanded/collapsed.\n",
       "- Pipeline and ColumnTransformer use this feature and define the default style\n",
       "- Estimators will overwrite some part of the style using the `sk-estimator` class\n",
       "*/\n",
       "\n",
       "/* Pipeline and ColumnTransformer style (default) */\n",
       "\n",
       "#sk-container-id-2 div.sk-toggleable {\n",
       "  /* Default theme specific background. It is overwritten whether we have a\n",
       "  specific estimator or a Pipeline/ColumnTransformer */\n",
       "  background-color: var(--sklearn-color-background);\n",
       "}\n",
       "\n",
       "/* Toggleable label */\n",
       "#sk-container-id-2 label.sk-toggleable__label {\n",
       "  cursor: pointer;\n",
       "  display: block;\n",
       "  width: 100%;\n",
       "  margin-bottom: 0;\n",
       "  padding: 0.5em;\n",
       "  box-sizing: border-box;\n",
       "  text-align: center;\n",
       "}\n",
       "\n",
       "#sk-container-id-2 label.sk-toggleable__label-arrow:before {\n",
       "  /* Arrow on the left of the label */\n",
       "  content: \"▸\";\n",
       "  float: left;\n",
       "  margin-right: 0.25em;\n",
       "  color: var(--sklearn-color-icon);\n",
       "}\n",
       "\n",
       "#sk-container-id-2 label.sk-toggleable__label-arrow:hover:before {\n",
       "  color: var(--sklearn-color-text);\n",
       "}\n",
       "\n",
       "/* Toggleable content - dropdown */\n",
       "\n",
       "#sk-container-id-2 div.sk-toggleable__content {\n",
       "  max-height: 0;\n",
       "  max-width: 0;\n",
       "  overflow: hidden;\n",
       "  text-align: left;\n",
       "  /* unfitted */\n",
       "  background-color: var(--sklearn-color-unfitted-level-0);\n",
       "}\n",
       "\n",
       "#sk-container-id-2 div.sk-toggleable__content.fitted {\n",
       "  /* fitted */\n",
       "  background-color: var(--sklearn-color-fitted-level-0);\n",
       "}\n",
       "\n",
       "#sk-container-id-2 div.sk-toggleable__content pre {\n",
       "  margin: 0.2em;\n",
       "  border-radius: 0.25em;\n",
       "  color: var(--sklearn-color-text);\n",
       "  /* unfitted */\n",
       "  background-color: var(--sklearn-color-unfitted-level-0);\n",
       "}\n",
       "\n",
       "#sk-container-id-2 div.sk-toggleable__content.fitted pre {\n",
       "  /* unfitted */\n",
       "  background-color: var(--sklearn-color-fitted-level-0);\n",
       "}\n",
       "\n",
       "#sk-container-id-2 input.sk-toggleable__control:checked~div.sk-toggleable__content {\n",
       "  /* Expand drop-down */\n",
       "  max-height: 200px;\n",
       "  max-width: 100%;\n",
       "  overflow: auto;\n",
       "}\n",
       "\n",
       "#sk-container-id-2 input.sk-toggleable__control:checked~label.sk-toggleable__label-arrow:before {\n",
       "  content: \"▾\";\n",
       "}\n",
       "\n",
       "/* Pipeline/ColumnTransformer-specific style */\n",
       "\n",
       "#sk-container-id-2 div.sk-label input.sk-toggleable__control:checked~label.sk-toggleable__label {\n",
       "  color: var(--sklearn-color-text);\n",
       "  background-color: var(--sklearn-color-unfitted-level-2);\n",
       "}\n",
       "\n",
       "#sk-container-id-2 div.sk-label.fitted input.sk-toggleable__control:checked~label.sk-toggleable__label {\n",
       "  background-color: var(--sklearn-color-fitted-level-2);\n",
       "}\n",
       "\n",
       "/* Estimator-specific style */\n",
       "\n",
       "/* Colorize estimator box */\n",
       "#sk-container-id-2 div.sk-estimator input.sk-toggleable__control:checked~label.sk-toggleable__label {\n",
       "  /* unfitted */\n",
       "  background-color: var(--sklearn-color-unfitted-level-2);\n",
       "}\n",
       "\n",
       "#sk-container-id-2 div.sk-estimator.fitted input.sk-toggleable__control:checked~label.sk-toggleable__label {\n",
       "  /* fitted */\n",
       "  background-color: var(--sklearn-color-fitted-level-2);\n",
       "}\n",
       "\n",
       "#sk-container-id-2 div.sk-label label.sk-toggleable__label,\n",
       "#sk-container-id-2 div.sk-label label {\n",
       "  /* The background is the default theme color */\n",
       "  color: var(--sklearn-color-text-on-default-background);\n",
       "}\n",
       "\n",
       "/* On hover, darken the color of the background */\n",
       "#sk-container-id-2 div.sk-label:hover label.sk-toggleable__label {\n",
       "  color: var(--sklearn-color-text);\n",
       "  background-color: var(--sklearn-color-unfitted-level-2);\n",
       "}\n",
       "\n",
       "/* Label box, darken color on hover, fitted */\n",
       "#sk-container-id-2 div.sk-label.fitted:hover label.sk-toggleable__label.fitted {\n",
       "  color: var(--sklearn-color-text);\n",
       "  background-color: var(--sklearn-color-fitted-level-2);\n",
       "}\n",
       "\n",
       "/* Estimator label */\n",
       "\n",
       "#sk-container-id-2 div.sk-label label {\n",
       "  font-family: monospace;\n",
       "  font-weight: bold;\n",
       "  display: inline-block;\n",
       "  line-height: 1.2em;\n",
       "}\n",
       "\n",
       "#sk-container-id-2 div.sk-label-container {\n",
       "  text-align: center;\n",
       "}\n",
       "\n",
       "/* Estimator-specific */\n",
       "#sk-container-id-2 div.sk-estimator {\n",
       "  font-family: monospace;\n",
       "  border: 1px dotted var(--sklearn-color-border-box);\n",
       "  border-radius: 0.25em;\n",
       "  box-sizing: border-box;\n",
       "  margin-bottom: 0.5em;\n",
       "  /* unfitted */\n",
       "  background-color: var(--sklearn-color-unfitted-level-0);\n",
       "}\n",
       "\n",
       "#sk-container-id-2 div.sk-estimator.fitted {\n",
       "  /* fitted */\n",
       "  background-color: var(--sklearn-color-fitted-level-0);\n",
       "}\n",
       "\n",
       "/* on hover */\n",
       "#sk-container-id-2 div.sk-estimator:hover {\n",
       "  /* unfitted */\n",
       "  background-color: var(--sklearn-color-unfitted-level-2);\n",
       "}\n",
       "\n",
       "#sk-container-id-2 div.sk-estimator.fitted:hover {\n",
       "  /* fitted */\n",
       "  background-color: var(--sklearn-color-fitted-level-2);\n",
       "}\n",
       "\n",
       "/* Specification for estimator info (e.g. \"i\" and \"?\") */\n",
       "\n",
       "/* Common style for \"i\" and \"?\" */\n",
       "\n",
       ".sk-estimator-doc-link,\n",
       "a:link.sk-estimator-doc-link,\n",
       "a:visited.sk-estimator-doc-link {\n",
       "  float: right;\n",
       "  font-size: smaller;\n",
       "  line-height: 1em;\n",
       "  font-family: monospace;\n",
       "  background-color: var(--sklearn-color-background);\n",
       "  border-radius: 1em;\n",
       "  height: 1em;\n",
       "  width: 1em;\n",
       "  text-decoration: none !important;\n",
       "  margin-left: 1ex;\n",
       "  /* unfitted */\n",
       "  border: var(--sklearn-color-unfitted-level-1) 1pt solid;\n",
       "  color: var(--sklearn-color-unfitted-level-1);\n",
       "}\n",
       "\n",
       ".sk-estimator-doc-link.fitted,\n",
       "a:link.sk-estimator-doc-link.fitted,\n",
       "a:visited.sk-estimator-doc-link.fitted {\n",
       "  /* fitted */\n",
       "  border: var(--sklearn-color-fitted-level-1) 1pt solid;\n",
       "  color: var(--sklearn-color-fitted-level-1);\n",
       "}\n",
       "\n",
       "/* On hover */\n",
       "div.sk-estimator:hover .sk-estimator-doc-link:hover,\n",
       ".sk-estimator-doc-link:hover,\n",
       "div.sk-label-container:hover .sk-estimator-doc-link:hover,\n",
       ".sk-estimator-doc-link:hover {\n",
       "  /* unfitted */\n",
       "  background-color: var(--sklearn-color-unfitted-level-3);\n",
       "  color: var(--sklearn-color-background);\n",
       "  text-decoration: none;\n",
       "}\n",
       "\n",
       "div.sk-estimator.fitted:hover .sk-estimator-doc-link.fitted:hover,\n",
       ".sk-estimator-doc-link.fitted:hover,\n",
       "div.sk-label-container:hover .sk-estimator-doc-link.fitted:hover,\n",
       ".sk-estimator-doc-link.fitted:hover {\n",
       "  /* fitted */\n",
       "  background-color: var(--sklearn-color-fitted-level-3);\n",
       "  color: var(--sklearn-color-background);\n",
       "  text-decoration: none;\n",
       "}\n",
       "\n",
       "/* Span, style for the box shown on hovering the info icon */\n",
       ".sk-estimator-doc-link span {\n",
       "  display: none;\n",
       "  z-index: 9999;\n",
       "  position: relative;\n",
       "  font-weight: normal;\n",
       "  right: .2ex;\n",
       "  padding: .5ex;\n",
       "  margin: .5ex;\n",
       "  width: min-content;\n",
       "  min-width: 20ex;\n",
       "  max-width: 50ex;\n",
       "  color: var(--sklearn-color-text);\n",
       "  box-shadow: 2pt 2pt 4pt #999;\n",
       "  /* unfitted */\n",
       "  background: var(--sklearn-color-unfitted-level-0);\n",
       "  border: .5pt solid var(--sklearn-color-unfitted-level-3);\n",
       "}\n",
       "\n",
       ".sk-estimator-doc-link.fitted span {\n",
       "  /* fitted */\n",
       "  background: var(--sklearn-color-fitted-level-0);\n",
       "  border: var(--sklearn-color-fitted-level-3);\n",
       "}\n",
       "\n",
       ".sk-estimator-doc-link:hover span {\n",
       "  display: block;\n",
       "}\n",
       "\n",
       "/* \"?\"-specific style due to the `<a>` HTML tag */\n",
       "\n",
       "#sk-container-id-2 a.estimator_doc_link {\n",
       "  float: right;\n",
       "  font-size: 1rem;\n",
       "  line-height: 1em;\n",
       "  font-family: monospace;\n",
       "  background-color: var(--sklearn-color-background);\n",
       "  border-radius: 1rem;\n",
       "  height: 1rem;\n",
       "  width: 1rem;\n",
       "  text-decoration: none;\n",
       "  /* unfitted */\n",
       "  color: var(--sklearn-color-unfitted-level-1);\n",
       "  border: var(--sklearn-color-unfitted-level-1) 1pt solid;\n",
       "}\n",
       "\n",
       "#sk-container-id-2 a.estimator_doc_link.fitted {\n",
       "  /* fitted */\n",
       "  border: var(--sklearn-color-fitted-level-1) 1pt solid;\n",
       "  color: var(--sklearn-color-fitted-level-1);\n",
       "}\n",
       "\n",
       "/* On hover */\n",
       "#sk-container-id-2 a.estimator_doc_link:hover {\n",
       "  /* unfitted */\n",
       "  background-color: var(--sklearn-color-unfitted-level-3);\n",
       "  color: var(--sklearn-color-background);\n",
       "  text-decoration: none;\n",
       "}\n",
       "\n",
       "#sk-container-id-2 a.estimator_doc_link.fitted:hover {\n",
       "  /* fitted */\n",
       "  background-color: var(--sklearn-color-fitted-level-3);\n",
       "}\n",
       "</style><div id=\"sk-container-id-2\" class=\"sk-top-container\"><div class=\"sk-text-repr-fallback\"><pre>DecisionTreeClassifier(random_state=1)</pre><b>In a Jupyter environment, please rerun this cell to show the HTML representation or trust the notebook. <br />On GitHub, the HTML representation is unable to render, please try loading this page with nbviewer.org.</b></div><div class=\"sk-container\" hidden><div class=\"sk-item\"><div class=\"sk-estimator fitted sk-toggleable\"><input class=\"sk-toggleable__control sk-hidden--visually\" id=\"sk-estimator-id-2\" type=\"checkbox\" checked><label for=\"sk-estimator-id-2\" class=\"sk-toggleable__label fitted sk-toggleable__label-arrow fitted\">&nbsp;&nbsp;DecisionTreeClassifier<a class=\"sk-estimator-doc-link fitted\" rel=\"noreferrer\" target=\"_blank\" href=\"https://scikit-learn.org/1.4/modules/generated/sklearn.tree.DecisionTreeClassifier.html\">?<span>Documentation for DecisionTreeClassifier</span></a><span class=\"sk-estimator-doc-link fitted\">i<span>Fitted</span></span></label><div class=\"sk-toggleable__content fitted\"><pre>DecisionTreeClassifier(random_state=1)</pre></div> </div></div></div></div>"
      ],
      "text/plain": [
       "DecisionTreeClassifier(random_state=1)"
      ]
     },
     "execution_count": 50,
     "metadata": {},
     "output_type": "execute_result"
    }
   ],
   "source": [
    "# Build decision tree model\n",
    "from sklearn.tree import DecisionTreeClassifier\n",
    "\n",
    "dTree = DecisionTreeClassifier(criterion = 'gini', random_state=1)\n",
    "dTree.fit(x_train, y_train)"
   ]
  },
  {
   "cell_type": "code",
   "execution_count": 51,
   "metadata": {
    "id": "K0x0xrNTJwVy",
    "outputId": "d110a6c9-5167-4c25-90ab-005a282d1d61"
   },
   "outputs": [
    {
     "name": "stdout",
     "output_type": "stream",
     "text": [
      "1.0\n",
      "0.9812583668005355\n"
     ]
    }
   ],
   "source": [
    "# Scoring our DT\n",
    "print(dTree.score(x_train, y_train))\n",
    "print(dTree.score(x_test, y_test))"
   ]
  },
  {
   "cell_type": "code",
   "execution_count": 52,
   "metadata": {
    "id": "W_Lad05GJwVz",
    "outputId": "1a43b88b-cb84-4e49-f912-b67c79481370"
   },
   "outputs": [
    {
     "name": "stdout",
     "output_type": "stream",
     "text": [
      "Accuracy Score: 0.9812583668005355\n",
      "Confusion Matrix: \n",
      "[[1335    6]\n",
      " [  22  131]]\n",
      "Area Under Curve: 0.9258674386980743\n",
      "Recall score: 0.8562091503267973\n",
      "Precision score: 0.9562043795620438\n",
      "f1 score: 0.903448275862069\n"
     ]
    }
   ],
   "source": [
    "y_predict = dTree.predict(x_test)\n",
    "print(f'Accuracy Score: {accuracy_score(y_test,y_predict)}')\n",
    "print(f'Confusion Matrix: \\n{confusion_matrix(y_test, y_predict)}')\n",
    "print(f'Area Under Curve: {roc_auc_score(y_test, y_predict)}')\n",
    "print(f'Recall score: {recall_score(y_test,y_predict)}')\n",
    "print(f'Precision score: {precision_score(y_test,y_predict)}')\n",
    "print(f'f1 score: {f1_score(y_test,y_predict)}')"
   ]
  },
  {
   "cell_type": "code",
   "execution_count": 53,
   "metadata": {
    "id": "JG9Odcr2JwVz",
    "outputId": "5d82608c-4a4f-4115-9008-68702e1c23c4"
   },
   "outputs": [
    {
     "name": "stdout",
     "output_type": "stream",
     "text": [
      "0.9905335628227194\n",
      "0.9825970548862115\n"
     ]
    }
   ],
   "source": [
    "#Reducing over fitting (Regularization)\n",
    "dTreeR = DecisionTreeClassifier(criterion = 'gini', max_depth = 5, random_state=1)\n",
    "dTreeR.fit(x_train, y_train)\n",
    "print(dTreeR.score(x_train, y_train))\n",
    "print(dTreeR.score(x_test, y_test))"
   ]
  },
  {
   "cell_type": "code",
   "execution_count": 54,
   "metadata": {
    "id": "a07wKKE-JwVz",
    "outputId": "461d6f20-3630-4164-9d64-078306d3c9e5"
   },
   "outputs": [
    {
     "name": "stdout",
     "output_type": "stream",
     "text": [
      "Accuracy Score: 0.9825970548862115\n",
      "Confusion Matrix: \n",
      "[[1335    6]\n",
      " [  20  133]]\n",
      "Area Under Curve: 0.9324033864104927\n",
      "Recall score: 0.869281045751634\n",
      "Precision score: 0.9568345323741008\n",
      "f1 score: 0.910958904109589\n"
     ]
    }
   ],
   "source": [
    "y_predictR = dTreeR.predict(x_test)\n",
    "print(f'Accuracy Score: {accuracy_score(y_test,y_predictR)}')\n",
    "print(f'Confusion Matrix: \\n{confusion_matrix(y_test, y_predictR)}')\n",
    "print(f'Area Under Curve: {roc_auc_score(y_test, y_predictR)}')\n",
    "print(f'Recall score: {recall_score(y_test,y_predictR)}')\n",
    "print(f'Precision score: {precision_score(y_test,y_predictR)}')\n",
    "print(f'f1 score: {f1_score(y_test,y_predictR)}')"
   ]
  },
  {
   "cell_type": "code",
   "execution_count": 55,
   "metadata": {
    "id": "W8zIxTaCJwVz",
    "outputId": "8fbb06f7-98f5-4253-e182-6ce1386ce7f9"
   },
   "outputs": [],
   "source": [
    "# Decision Tree Visualize\n",
    "import matplotlib.pyplot as plt\n",
    "from sklearn.tree import plot_tree\n",
    "dTreeR3 = DecisionTreeClassifier(criterion = 'gini', max_depth = 3, random_state=1)\n",
    "dTreeR3.fit(x_train, y_train)\n",
    "fn = list(x_train)\n",
    "cn = ['0', '1']\n",
    "fig, axes = plt.subplots(nrows = 1,ncols = 1,figsize = (4, 4), dpi=300)\n",
    "plot_tree(dTreeR3, feature_names = fn, class_names=cn, filled = True)\n",
    "\n",
    "fig.savefig('tree.png')"
   ]
  },
  {
   "cell_type": "markdown",
   "metadata": {
    "id": "lMd15YDFJwVz"
   },
   "source": [
    "## Ensemble Learning: Random forest classifier\n"
   ]
  },
  {
   "cell_type": "code",
   "execution_count": 56,
   "metadata": {
    "id": "LjIwJkuEJwVz"
   },
   "outputs": [],
   "source": [
    "from sklearn.ensemble import RandomForestClassifier\n",
    "rfcl = RandomForestClassifier(random_state=1)\n",
    "rfcl = rfcl.fit(x_train, y_train)\n",
    "y_predict = rfcl.predict(x_test)"
   ]
  },
  {
   "cell_type": "code",
   "execution_count": 57,
   "metadata": {
    "id": "PaEwZXi-JwVz",
    "outputId": "d5894bdc-fc50-4c17-c3dc-23f8580701e1"
   },
   "outputs": [
    {
     "name": "stdout",
     "output_type": "stream",
     "text": [
      "Accuracy Score: 0.9859437751004017\n",
      "Confusion Matrix: \n",
      "[[1340    1]\n",
      " [  20  133]]\n",
      "Area Under Curve: 0.934267666798263\n",
      "Recall score: 0.869281045751634\n",
      "Precision score: 0.9925373134328358\n",
      "f1 score: 0.926829268292683\n"
     ]
    }
   ],
   "source": [
    "# performance\n",
    "print(f'Accuracy Score: {accuracy_score(y_test,y_predict)}')\n",
    "print(f'Confusion Matrix: \\n{confusion_matrix(y_test, y_predict)}')\n",
    "print(f'Area Under Curve: {roc_auc_score(y_test, y_predict)}')\n",
    "print(f'Recall score: {recall_score(y_test,y_predict)}')\n",
    "print(f'Precision score: {precision_score(y_test,y_predict)}')\n",
    "print(f'f1 score: {f1_score(y_test,y_predict)}')"
   ]
  },
  {
   "cell_type": "markdown",
   "metadata": {
    "id": "mIaLFatLJwVz"
   },
   "source": [
    "## Unbalanced Data Handelling"
   ]
  },
  {
   "cell_type": "code",
   "execution_count": 58,
   "metadata": {
    "id": "OaXiIf5dJwVz",
    "outputId": "ebc86d4d-4c2e-41ea-b14c-5df3b78ea74d"
   },
   "outputs": [
    {
     "name": "stdout",
     "output_type": "stream",
     "text": [
      "Collecting imbalanced-learn\n",
      "  Downloading imbalanced_learn-0.12.3-py3-none-any.whl.metadata (8.3 kB)\n",
      "Requirement already satisfied: numpy>=1.17.3 in c:\\users\\user\\anaconda3\\envs\\bank_app\\lib\\site-packages (from imbalanced-learn) (1.26.4)\n",
      "Requirement already satisfied: scipy>=1.5.0 in c:\\users\\user\\anaconda3\\envs\\bank_app\\lib\\site-packages (from imbalanced-learn) (1.13.1)\n",
      "Requirement already satisfied: scikit-learn>=1.0.2 in c:\\users\\user\\anaconda3\\envs\\bank_app\\lib\\site-packages (from imbalanced-learn) (1.4.2)\n",
      "Requirement already satisfied: joblib>=1.1.1 in c:\\users\\user\\anaconda3\\envs\\bank_app\\lib\\site-packages (from imbalanced-learn) (1.4.2)\n",
      "Requirement already satisfied: threadpoolctl>=2.0.0 in c:\\users\\user\\anaconda3\\envs\\bank_app\\lib\\site-packages (from imbalanced-learn) (3.5.0)\n",
      "Downloading imbalanced_learn-0.12.3-py3-none-any.whl (258 kB)\n",
      "   ---------------------------------------- 0.0/258.3 kB ? eta -:--:--\n",
      "   ---------------------------------------- 0.0/258.3 kB ? eta -:--:--\n",
      "   - -------------------------------------- 10.2/258.3 kB ? eta -:--:--\n",
      "   - -------------------------------------- 10.2/258.3 kB ? eta -:--:--\n",
      "   ---- ---------------------------------- 30.7/258.3 kB 187.9 kB/s eta 0:00:02\n",
      "   ---- ---------------------------------- 30.7/258.3 kB 187.9 kB/s eta 0:00:02\n",
      "   --------- ----------------------------- 61.4/258.3 kB 234.9 kB/s eta 0:00:01\n",
      "   ---------- ---------------------------- 71.7/258.3 kB 245.8 kB/s eta 0:00:01\n",
      "   ------------- ------------------------- 92.2/258.3 kB 291.5 kB/s eta 0:00:01\n",
      "   ------------------ ------------------- 122.9/258.3 kB 328.4 kB/s eta 0:00:01\n",
      "   ---------------------- --------------- 153.6/258.3 kB 367.6 kB/s eta 0:00:01\n",
      "   ------------------------- ------------ 174.1/258.3 kB 389.2 kB/s eta 0:00:01\n",
      "   ------------------------------ ------- 204.8/258.3 kB 402.0 kB/s eta 0:00:01\n",
      "   -------------------------------------- 258.3/258.3 kB 467.2 kB/s eta 0:00:00\n",
      "Installing collected packages: imbalanced-learn\n",
      "Successfully installed imbalanced-learn-0.12.3\n"
     ]
    }
   ],
   "source": [
    "# Install imbalanced-learn if you have not used before\n",
    "!pip install imbalanced-learn"
   ]
  },
  {
   "cell_type": "code",
   "execution_count": 59,
   "metadata": {
    "id": "YOaTsGqKJwVz",
    "outputId": "6e1aed8d-3045-4987-e8c0-7420aedff255"
   },
   "outputs": [
    {
     "name": "stdout",
     "output_type": "stream",
     "text": [
      "Counter({0.0: 4500, 1.0: 480})\n",
      "Counter({0.0: 2700, 1.0: 1350})\n"
     ]
    }
   ],
   "source": [
    "from imblearn.over_sampling import SMOTE\n",
    "from imblearn.under_sampling import RandomUnderSampler\n",
    "from imblearn.pipeline import Pipeline\n",
    "from collections import Counter\n",
    "# summarize class distribution\n",
    "counter = Counter(Y)\n",
    "print(counter)\n",
    "# define pipeline\n",
    "over = SMOTE(sampling_strategy=0.3,random_state=1) #sampling_strategy=0.1,random_state=1\n",
    "under = RandomUnderSampler(sampling_strategy=0.5)\n",
    "steps = [ ('o', over),('u', under)]\n",
    "pipeline = Pipeline(steps=steps)\n",
    "# transform the dataset\n",
    "Xb, Yb = pipeline.fit_resample(X, Y)\n",
    "# summarize the new class distribution\n",
    "counter = Counter(Yb)\n",
    "print(counter)"
   ]
  },
  {
   "cell_type": "code",
   "execution_count": 60,
   "metadata": {
    "id": "vGRToprVJwV0"
   },
   "outputs": [],
   "source": [
    "x_trainb, x_testb, y_trainb, y_testb = train_test_split(Xb, Yb, test_size=0.3, random_state=1)\n",
    "# 1 is just any random seed number\""
   ]
  },
  {
   "cell_type": "markdown",
   "metadata": {
    "id": "Mkz4rNBdJwV0"
   },
   "source": [
    "## SVM with balanced Data"
   ]
  },
  {
   "cell_type": "code",
   "execution_count": 61,
   "metadata": {
    "id": "yh-hHNZJJwV0"
   },
   "outputs": [],
   "source": [
    "clf = svm.SVC(gamma=0.25, C=10)\n",
    "clf.fit(x_trainb , y_trainb)\n",
    "y_predictb = clf.predict(x_testb)"
   ]
  },
  {
   "cell_type": "code",
   "execution_count": 62,
   "metadata": {
    "id": "MGFfr2MVJwV0",
    "outputId": "fe630ae3-30b7-4586-8305-13eebbe8e89e"
   },
   "outputs": [
    {
     "name": "stdout",
     "output_type": "stream",
     "text": [
      "Accuracy Score: 0.8650205761316873\n",
      "Confusion Matrix: \n",
      "[[800  15]\n",
      " [149 251]]\n",
      "Area Under Curve: 0.8045475460122699\n",
      "Recall score: 0.6275\n",
      "Precision score: 0.943609022556391\n",
      "f1 score: 0.7537537537537538\n"
     ]
    }
   ],
   "source": [
    "# performance\n",
    "print(f'Accuracy Score: {accuracy_score(y_testb,y_predictb)}')\n",
    "print(f'Confusion Matrix: \\n{confusion_matrix(y_testb, y_predictb)}')\n",
    "print(f'Area Under Curve: {roc_auc_score(y_testb, y_predictb)}')\n",
    "print(f'Recall score: {recall_score(y_testb,y_predictb)}')\n",
    "print(f'Precision score: {precision_score(y_testb,y_predictb)}')\n",
    "print(f'f1 score: {f1_score(y_testb,y_predictb)}')"
   ]
  },
  {
   "cell_type": "markdown",
   "metadata": {
    "id": "cUnf-UUHJwV0"
   },
   "source": [
    "## Random Forest classifier with Balanced Data"
   ]
  },
  {
   "cell_type": "code",
   "execution_count": 75,
   "metadata": {
    "id": "ZFIl9EEhJwV0"
   },
   "outputs": [],
   "source": [
    "rfcl = RandomForestClassifier(random_state=10)\n",
    "rfcl = rfcl.fit(x_trainb, y_trainb)\n",
    "y_predict = rfcl.predict(x_testb)"
   ]
  },
  {
   "cell_type": "code",
   "execution_count": 76,
   "metadata": {
    "id": "cVVELVyJJwV0",
    "outputId": "d961554a-b5ee-4720-bd93-6321679796ef"
   },
   "outputs": [
    {
     "name": "stdout",
     "output_type": "stream",
     "text": [
      "Accuracy Score: 0.9637860082304527\n",
      "Confusion Matrix: \n",
      "[[787  28]\n",
      " [ 16 384]]\n",
      "Area Under Curve: 0.9628220858895705\n",
      "Recall score: 0.96\n",
      "Precision score: 0.9320388349514563\n",
      "f1 score: 0.9458128078817734\n"
     ]
    }
   ],
   "source": [
    "# performance\n",
    "print(f'Accuracy Score: {accuracy_score(y_testb,y_predict)}')\n",
    "print(f'Confusion Matrix: \\n{confusion_matrix(y_testb, y_predict)}')\n",
    "print(f'Area Under Curve: {roc_auc_score(y_testb, y_predict)}')\n",
    "print(f'Recall score: {recall_score(y_testb,y_predict)}')\n",
    "print(f'Precision score: {precision_score(y_testb,y_predict)}')\n",
    "print(f'f1 score: {f1_score(y_testb,y_predict)}')"
   ]
  },
  {
   "cell_type": "markdown",
   "metadata": {
    "id": "HOdFyAN4JwV0"
   },
   "source": [
    "### Chosing hyperparameter using Grid Search"
   ]
  },
  {
   "cell_type": "code",
   "execution_count": 65,
   "metadata": {
    "id": "z6bfpedJJwV0",
    "outputId": "fb01097f-cf5a-4835-bae2-020266008283"
   },
   "outputs": [],
   "source": [
    "#from sklearn.model_selection import GridSearchCV\n",
    "#param_grid = {'C': [0.1,1, 10, 100], 'gamma': [1,0.1,0.25,0.01],'kernel': ['rbf', 'poly', 'sigmoid']}\n",
    "#grid = GridSearchCV(svm.SVC(),param_grid,refit=True,verbose=2)\n",
    "#grid.fit(x_trainb,y_trainb)\n",
    "#print(grid.best_estimator_)"
   ]
  },
  {
   "cell_type": "markdown",
   "metadata": {
    "id": "GmvTPnLVJwV0"
   },
   "source": [
    "## Pickle the model\n"
   ]
  },
  {
   "cell_type": "code",
   "execution_count": 67,
   "metadata": {
    "id": "tafiChriJwV0"
   },
   "outputs": [],
   "source": [
    "# Pickle model file\n",
    "#from sklearn.externals import joblib\n",
    "import pickle\n",
    "filename = '../model/finalized_model.pkl'\n",
    "pickle.dump(rfcl, open(filename, 'wb'))\n",
    "#joblib.dump(rfcl, open(filename, 'wb'))"
   ]
  },
  {
   "cell_type": "markdown",
   "metadata": {
    "id": "P0U3EZ5hJwV1"
   },
   "source": [
    "## Load model from pickle file and use"
   ]
  },
  {
   "cell_type": "code",
   "execution_count": 69,
   "metadata": {
    "id": "7lgVhfmSJwV1",
    "outputId": "98c7c755-897e-4d46-aae0-76672d72823c"
   },
   "outputs": [
    {
     "name": "stdout",
     "output_type": "stream",
     "text": [
      "[0.]\n"
     ]
    },
    {
     "name": "stderr",
     "output_type": "stream",
     "text": [
      "C:\\Users\\user\\anaconda3\\envs\\Bank_app\\Lib\\site-packages\\sklearn\\base.py:493: UserWarning: X does not have valid feature names, but RandomForestClassifier was fitted with feature names\n",
      "  warnings.warn(\n"
     ]
    }
   ],
   "source": [
    "# Checking the pickle model\n",
    "loaded_model = pickle.load(open(filename, 'rb'))\n",
    "print(loaded_model.predict([[ 1, 30,  2, 30,  2, 40,  1, 1,  1,  1,]]))"
   ]
  },
  {
   "cell_type": "markdown",
   "metadata": {
    "id": "9WsVtIy2JwV1"
   },
   "source": [
    "# Conclusion: \n",
    "### We have built  a model using logistic regression, Support vector machine and Random forest classifier. This data set is highly imbalance hence accuracy can't a good measure, Hence we have used precision, Recall, and AUC for determining better model. \n",
    "### We use class weight technique to handle un balanced data and observe that the model performance improved by considering class weight. \n",
    "### Scaling/data transformation plays a major role when we work on SVM. \n",
    "### We have also explored undersampling and oversampling technique like SMOTE to handle data imbalance.\n",
    "### Hyper parameter tuning using Grid Search\n",
    "### We have also seen how to systematically improve a model.\n"
   ]
  },
  {
   "cell_type": "code",
   "execution_count": null,
   "metadata": {
    "id": "AxbSFR9vJwV1"
   },
   "outputs": [],
   "source": []
  }
 ],
 "metadata": {
  "colab": {
   "collapsed_sections": [
    "Y3iXhfquJwVq",
    "Xo-co7UXJwVr",
    "oHsBfAP8JwVr",
    "96UoYXQnJwVr",
    "TPjsOVXTJwVs",
    "tFfwVh2eJwVu",
    "6vBADqeyJwVu",
    "Ej4d0Q4eJwVv",
    "E7xeqGOxJwVv",
    "celHLHYaJwVw",
    "gURKKKMKJwVw",
    "q-5OM8suJwVw",
    "YLfXQ5FiJwVw",
    "TuKRWSkrJwVw",
    "iMHHiO3jJwVx",
    "zvAoOqS-JwVx",
    "HC3Yvv1vJwVx",
    "BBP4efMhJwVy",
    "lMd15YDFJwVz",
    "mIaLFatLJwVz",
    "Mkz4rNBdJwV0",
    "cUnf-UUHJwV0",
    "HOdFyAN4JwV0",
    "GmvTPnLVJwV0",
    "P0U3EZ5hJwV1"
   ],
   "name": "Digital transformation in Banking sector.ipynb",
   "provenance": []
  },
  "kernelspec": {
   "display_name": "Python 3 (ipykernel)",
   "language": "python",
   "name": "python3"
  },
  "language_info": {
   "codemirror_mode": {
    "name": "ipython",
    "version": 3
   },
   "file_extension": ".py",
   "mimetype": "text/x-python",
   "name": "python",
   "nbconvert_exporter": "python",
   "pygments_lexer": "ipython3",
   "version": "3.12.4"
  }
 },
 "nbformat": 4,
 "nbformat_minor": 4
}
